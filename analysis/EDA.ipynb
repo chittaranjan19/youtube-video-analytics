{
 "cells": [
  {
   "cell_type": "code",
   "execution_count": 97,
   "id": "25bf5c07",
   "metadata": {},
   "outputs": [],
   "source": [
    "import pandas as pd\n",
    "import isodate\n",
    "import datetime\n",
    "import matplotlib.pyplot as plt\n",
    "import numpy as np"
   ]
  },
  {
   "cell_type": "markdown",
   "id": "a723bf09",
   "metadata": {},
   "source": [
    "## Data Transformations"
   ]
  },
  {
   "cell_type": "markdown",
   "id": "1798f188",
   "metadata": {},
   "source": [
    "- Convert **duration**: From ISO 1806 string format to number of seconds\n",
    "- Split Publish Time: Into Day, Month, Year, and Epoch Timestamp\n",
    "- Compute **age**: Is a variable that accounts for how long a video has been on Youtube\n",
    "- Log Transform: Values with large values (likes, views, comments) are log transformed to stabilize variance"
   ]
  },
  {
   "cell_type": "code",
   "execution_count": 292,
   "id": "0feaa881",
   "metadata": {},
   "outputs": [],
   "source": [
    "df = pd.read_csv(\"data.csv\")\n",
    "df.dropna(inplace=True)\n",
    "df[\"duration\"] = df[\"duration\"].apply(isodate.parse_duration).apply(datetime.timedelta.total_seconds)\n",
    "df[\"publishedAt\"] = df[\"publishedAt\"].apply(isodate.parse_datetime)\n",
    "df[\"publishedAtMonth\"] = df[\"publishedAt\"].apply(lambda dt: dt.month)\n",
    "df[\"publishedAtDay\"] = df[\"publishedAt\"].apply(lambda dt: dt.day)\n",
    "df[\"publishedAtYear\"] = df[\"publishedAt\"].apply(lambda dt: dt.year)\n",
    "df[\"publishedAt\"] = df[\"publishedAt\"].apply(datetime.datetime.timestamp)\n",
    "date_of_start = datetime.datetime(2019, 1, 1).timestamp()\n",
    "df[\"age\"] = (df[\"publishedAt\"] - date_of_start)\n",
    "\n",
    "df[\"log_views\"] = np.log(df[\"views\"])\n",
    "df[\"log_likes\"] = np.log(df[\"likes\"])\n",
    "df[\"comments\"] = df[\"comments\"].apply(lambda c: c+1) # to handle 0s\n",
    "df[\"log_comments\"] = np.log(df[\"comments\"])"
   ]
  },
  {
   "cell_type": "code",
   "execution_count": 293,
   "id": "80757359",
   "metadata": {
    "scrolled": true
   },
   "outputs": [
    {
     "data": {
      "text/html": [
       "<div>\n",
       "<style scoped>\n",
       "    .dataframe tbody tr th:only-of-type {\n",
       "        vertical-align: middle;\n",
       "    }\n",
       "\n",
       "    .dataframe tbody tr th {\n",
       "        vertical-align: top;\n",
       "    }\n",
       "\n",
       "    .dataframe thead th {\n",
       "        text-align: right;\n",
       "    }\n",
       "</style>\n",
       "<table border=\"1\" class=\"dataframe\">\n",
       "  <thead>\n",
       "    <tr style=\"text-align: right;\">\n",
       "      <th></th>\n",
       "      <th>views</th>\n",
       "      <th>likes</th>\n",
       "      <th>comments</th>\n",
       "    </tr>\n",
       "  </thead>\n",
       "  <tbody>\n",
       "    <tr>\n",
       "      <th>views</th>\n",
       "      <td>1.000000</td>\n",
       "      <td>0.837212</td>\n",
       "      <td>0.700777</td>\n",
       "    </tr>\n",
       "    <tr>\n",
       "      <th>likes</th>\n",
       "      <td>0.837212</td>\n",
       "      <td>1.000000</td>\n",
       "      <td>0.930700</td>\n",
       "    </tr>\n",
       "    <tr>\n",
       "      <th>comments</th>\n",
       "      <td>0.700777</td>\n",
       "      <td>0.930700</td>\n",
       "      <td>1.000000</td>\n",
       "    </tr>\n",
       "  </tbody>\n",
       "</table>\n",
       "</div>"
      ],
      "text/plain": [
       "             views     likes  comments\n",
       "views     1.000000  0.837212  0.700777\n",
       "likes     0.837212  1.000000  0.930700\n",
       "comments  0.700777  0.930700  1.000000"
      ]
     },
     "execution_count": 293,
     "metadata": {},
     "output_type": "execute_result"
    }
   ],
   "source": [
    "df[[\"views\", \"likes\", \"comments\"]].corr()"
   ]
  },
  {
   "cell_type": "markdown",
   "id": "7abd6001",
   "metadata": {},
   "source": [
    "We see high correlations between views, likes, and comments. So for the purposes of EDA and trend analysis, we could use any one of these variables instead of all of them."
   ]
  },
  {
   "cell_type": "code",
   "execution_count": 294,
   "id": "e28cd941",
   "metadata": {
    "scrolled": true
   },
   "outputs": [
    {
     "data": {
      "text/html": [
       "<div>\n",
       "<style scoped>\n",
       "    .dataframe tbody tr th:only-of-type {\n",
       "        vertical-align: middle;\n",
       "    }\n",
       "\n",
       "    .dataframe tbody tr th {\n",
       "        vertical-align: top;\n",
       "    }\n",
       "\n",
       "    .dataframe thead th {\n",
       "        text-align: right;\n",
       "    }\n",
       "</style>\n",
       "<table border=\"1\" class=\"dataframe\">\n",
       "  <thead>\n",
       "    <tr style=\"text-align: right;\">\n",
       "      <th></th>\n",
       "      <th>definition</th>\n",
       "      <th>madeForKids</th>\n",
       "    </tr>\n",
       "  </thead>\n",
       "  <tbody>\n",
       "    <tr>\n",
       "      <th>count</th>\n",
       "      <td>770</td>\n",
       "      <td>770</td>\n",
       "    </tr>\n",
       "    <tr>\n",
       "      <th>unique</th>\n",
       "      <td>2</td>\n",
       "      <td>2</td>\n",
       "    </tr>\n",
       "    <tr>\n",
       "      <th>top</th>\n",
       "      <td>hd</td>\n",
       "      <td>False</td>\n",
       "    </tr>\n",
       "    <tr>\n",
       "      <th>freq</th>\n",
       "      <td>745</td>\n",
       "      <td>745</td>\n",
       "    </tr>\n",
       "  </tbody>\n",
       "</table>\n",
       "</div>"
      ],
      "text/plain": [
       "       definition madeForKids\n",
       "count         770         770\n",
       "unique          2           2\n",
       "top            hd       False\n",
       "freq          745         745"
      ]
     },
     "execution_count": 294,
     "metadata": {},
     "output_type": "execute_result"
    }
   ],
   "source": [
    "df[[\"definition\", \"madeForKids\"]].describe()"
   ]
  },
  {
   "cell_type": "code",
   "execution_count": null,
   "id": "1aecc137",
   "metadata": {},
   "outputs": [],
   "source": []
  },
  {
   "cell_type": "markdown",
   "id": "57edcccc",
   "metadata": {},
   "source": [
    "The factors for **definition** and **madeForKids** are not equally balanced, so we will not look at trends across those values."
   ]
  },
  {
   "cell_type": "code",
   "execution_count": 193,
   "id": "8c7909a7",
   "metadata": {},
   "outputs": [],
   "source": [
    "def get(df, col, val):\n",
    "    return df[df[col] == val]"
   ]
  },
  {
   "cell_type": "markdown",
   "id": "5d0bacf5",
   "metadata": {},
   "source": [
    "## Compare `views`  across `timePeriod`"
   ]
  },
  {
   "cell_type": "code",
   "execution_count": 133,
   "id": "d7aa1a1d",
   "metadata": {},
   "outputs": [],
   "source": [
    "before = get(df, \"timePeriod\", \"before\")\n",
    "during = get(df, \"timePeriod\", \"during\")\n",
    "after = get(df, \"timePeriod\", \"after\")"
   ]
  },
  {
   "cell_type": "code",
   "execution_count": 134,
   "id": "57c52e63",
   "metadata": {},
   "outputs": [
    {
     "data": {
      "image/png": "[encoded data removed]",
      "text/plain": [
       "<Figure size 432x288 with 1 Axes>"
      ]
     },
     "metadata": {
      "needs_background": "light"
     },
     "output_type": "display_data"
    }
   ],
   "source": [
    "_ = plt.boxplot([before[\"log_views\"], during[\"log_views\"], after[\"log_views\"]])"
   ]
  },
  {
   "cell_type": "markdown",
   "id": "579ab423",
   "metadata": {},
   "source": [
    "Surprisingly, there does not seem to be any drastic differences between number of views across different time periods of the pandemic. "
   ]
  },
  {
   "cell_type": "markdown",
   "id": "1cbd1d73",
   "metadata": {},
   "source": [
    "## Compare `views` across `category`"
   ]
  },
  {
   "cell_type": "code",
   "execution_count": 296,
   "id": "7ad6a14b",
   "metadata": {},
   "outputs": [],
   "source": [
    "categories = list(df[\"category\"].unique())\n",
    "subsets = []\n",
    "for c in categories:\n",
    "    subsets.append(get(df, \"category\", c))"
   ]
  },
  {
   "cell_type": "code",
   "execution_count": 297,
   "id": "13aa575d",
   "metadata": {},
   "outputs": [
    {
     "data": {
      "text/plain": [
       "['music',\n",
       " 'comedy',\n",
       " 'entertainment',\n",
       " 'news/politics',\n",
       " 'education',\n",
       " 'science/tech']"
      ]
     },
     "execution_count": 297,
     "metadata": {},
     "output_type": "execute_result"
    }
   ],
   "source": [
    "categories"
   ]
  },
  {
   "cell_type": "code",
   "execution_count": 298,
   "id": "54a86107",
   "metadata": {},
   "outputs": [
    {
     "data": {
      "image/png": "[encoded data removed]",
      "text/plain": [
       "<Figure size 432x288 with 1 Axes>"
      ]
     },
     "metadata": {
      "needs_background": "light"
     },
     "output_type": "display_data"
    }
   ],
   "source": [
    "_ = plt.boxplot([s[\"log_views\"] for s in subsets])"
   ]
  },
  {
   "cell_type": "markdown",
   "id": "70c8dedd",
   "metadata": {},
   "source": [
    "The light topics like music and comedy have more views as expected, but there are many more outliers in the more series topics. We can briefly investigate these outliers."
   ]
  },
  {
   "cell_type": "code",
   "execution_count": 302,
   "id": "a73c3e47",
   "metadata": {
    "scrolled": false
   },
   "outputs": [
    {
     "data": {
      "text/html": [
       "<div>\n",
       "<style scoped>\n",
       "    .dataframe tbody tr th:only-of-type {\n",
       "        vertical-align: middle;\n",
       "    }\n",
       "\n",
       "    .dataframe tbody tr th {\n",
       "        vertical-align: top;\n",
       "    }\n",
       "\n",
       "    .dataframe thead th {\n",
       "        text-align: right;\n",
       "    }\n",
       "</style>\n",
       "<table border=\"1\" class=\"dataframe\">\n",
       "  <thead>\n",
       "    <tr style=\"text-align: right;\">\n",
       "      <th></th>\n",
       "      <th>videoId</th>\n",
       "      <th>publishedAt</th>\n",
       "      <th>category</th>\n",
       "      <th>timePeriod</th>\n",
       "      <th>title</th>\n",
       "      <th>duration</th>\n",
       "      <th>definition</th>\n",
       "      <th>caption</th>\n",
       "      <th>madeForKids</th>\n",
       "      <th>views</th>\n",
       "      <th>likes</th>\n",
       "      <th>comments</th>\n",
       "      <th>publishedAtMonth</th>\n",
       "      <th>publishedAtDay</th>\n",
       "      <th>publishedAtYear</th>\n",
       "      <th>age</th>\n",
       "      <th>log_views</th>\n",
       "      <th>log_likes</th>\n",
       "      <th>log_comments</th>\n",
       "    </tr>\n",
       "  </thead>\n",
       "  <tbody>\n",
       "    <tr>\n",
       "      <th>246</th>\n",
       "      <td>UH2Sm0Wj3Dw</td>\n",
       "      <td>1.556003e+09</td>\n",
       "      <td>education</td>\n",
       "      <td>before</td>\n",
       "      <td>Potty Training Song | CoComelon Nursery Rhymes...</td>\n",
       "      <td>198.0</td>\n",
       "      <td>hd</td>\n",
       "      <td>True</td>\n",
       "      <td>True</td>\n",
       "      <td>201211220.0</td>\n",
       "      <td>641294.0</td>\n",
       "      <td>1.0</td>\n",
       "      <td>4</td>\n",
       "      <td>23</td>\n",
       "      <td>2019</td>\n",
       "      <td>9684004.0</td>\n",
       "      <td>19.119866</td>\n",
       "      <td>13.371243</td>\n",
       "      <td>0.0</td>\n",
       "    </tr>\n",
       "    <tr>\n",
       "      <th>248</th>\n",
       "      <td>KEZp5_DgABA</td>\n",
       "      <td>1.565075e+09</td>\n",
       "      <td>education</td>\n",
       "      <td>before</td>\n",
       "      <td>Nap Time Song | CoComelon Nursery Rhymes &amp;  Ki...</td>\n",
       "      <td>203.0</td>\n",
       "      <td>hd</td>\n",
       "      <td>True</td>\n",
       "      <td>True</td>\n",
       "      <td>255277576.0</td>\n",
       "      <td>554877.0</td>\n",
       "      <td>1.0</td>\n",
       "      <td>8</td>\n",
       "      <td>6</td>\n",
       "      <td>2019</td>\n",
       "      <td>18756002.0</td>\n",
       "      <td>19.357862</td>\n",
       "      <td>13.226502</td>\n",
       "      <td>0.0</td>\n",
       "    </tr>\n",
       "    <tr>\n",
       "      <th>538</th>\n",
       "      <td>q8ZlZBWnUmY</td>\n",
       "      <td>1.594710e+09</td>\n",
       "      <td>education</td>\n",
       "      <td>during</td>\n",
       "      <td>Lost Hamster | CoComelon Nursery Rhymes &amp; Kids...</td>\n",
       "      <td>192.0</td>\n",
       "      <td>hd</td>\n",
       "      <td>False</td>\n",
       "      <td>True</td>\n",
       "      <td>119111700.0</td>\n",
       "      <td>479524.0</td>\n",
       "      <td>1.0</td>\n",
       "      <td>7</td>\n",
       "      <td>14</td>\n",
       "      <td>2020</td>\n",
       "      <td>48391209.0</td>\n",
       "      <td>18.595572</td>\n",
       "      <td>13.080549</td>\n",
       "      <td>0.0</td>\n",
       "    </tr>\n",
       "    <tr>\n",
       "      <th>539</th>\n",
       "      <td>j077GAqUQJ0</td>\n",
       "      <td>1.603177e+09</td>\n",
       "      <td>education</td>\n",
       "      <td>during</td>\n",
       "      <td>Halloween At School Song | CoComelon Nursery R...</td>\n",
       "      <td>227.0</td>\n",
       "      <td>hd</td>\n",
       "      <td>False</td>\n",
       "      <td>True</td>\n",
       "      <td>44703046.0</td>\n",
       "      <td>216468.0</td>\n",
       "      <td>1.0</td>\n",
       "      <td>10</td>\n",
       "      <td>20</td>\n",
       "      <td>2020</td>\n",
       "      <td>56858415.0</td>\n",
       "      <td>17.615552</td>\n",
       "      <td>12.285198</td>\n",
       "      <td>0.0</td>\n",
       "    </tr>\n",
       "    <tr>\n",
       "      <th>826</th>\n",
       "      <td>o-0t9cdY7Q8</td>\n",
       "      <td>1.643098e+09</td>\n",
       "      <td>education</td>\n",
       "      <td>after</td>\n",
       "      <td>Grocery Store Song | CoComelon Nursery Rhymes ...</td>\n",
       "      <td>189.0</td>\n",
       "      <td>hd</td>\n",
       "      <td>False</td>\n",
       "      <td>True</td>\n",
       "      <td>53570612.0</td>\n",
       "      <td>265753.0</td>\n",
       "      <td>1.0</td>\n",
       "      <td>1</td>\n",
       "      <td>25</td>\n",
       "      <td>2022</td>\n",
       "      <td>96778974.0</td>\n",
       "      <td>17.796511</td>\n",
       "      <td>12.490323</td>\n",
       "      <td>0.0</td>\n",
       "    </tr>\n",
       "    <tr>\n",
       "      <th>827</th>\n",
       "      <td>VR63WBMi3Wo</td>\n",
       "      <td>1.644912e+09</td>\n",
       "      <td>education</td>\n",
       "      <td>after</td>\n",
       "      <td>Teddy Bear, Teddy Bear Song | CoComelon Nurser...</td>\n",
       "      <td>184.0</td>\n",
       "      <td>hd</td>\n",
       "      <td>False</td>\n",
       "      <td>True</td>\n",
       "      <td>13609426.0</td>\n",
       "      <td>75299.0</td>\n",
       "      <td>1.0</td>\n",
       "      <td>2</td>\n",
       "      <td>15</td>\n",
       "      <td>2022</td>\n",
       "      <td>98593207.0</td>\n",
       "      <td>16.426273</td>\n",
       "      <td>11.229222</td>\n",
       "      <td>0.0</td>\n",
       "    </tr>\n",
       "  </tbody>\n",
       "</table>\n",
       "</div>"
      ],
      "text/plain": [
       "         videoId   publishedAt   category timePeriod  \\\n",
       "246  UH2Sm0Wj3Dw  1.556003e+09  education     before   \n",
       "248  KEZp5_DgABA  1.565075e+09  education     before   \n",
       "538  q8ZlZBWnUmY  1.594710e+09  education     during   \n",
       "539  j077GAqUQJ0  1.603177e+09  education     during   \n",
       "826  o-0t9cdY7Q8  1.643098e+09  education      after   \n",
       "827  VR63WBMi3Wo  1.644912e+09  education      after   \n",
       "\n",
       "                                                 title  duration definition  \\\n",
       "246  Potty Training Song | CoComelon Nursery Rhymes...     198.0         hd   \n",
       "248  Nap Time Song | CoComelon Nursery Rhymes &  Ki...     203.0         hd   \n",
       "538  Lost Hamster | CoComelon Nursery Rhymes & Kids...     192.0         hd   \n",
       "539  Halloween At School Song | CoComelon Nursery R...     227.0         hd   \n",
       "826  Grocery Store Song | CoComelon Nursery Rhymes ...     189.0         hd   \n",
       "827  Teddy Bear, Teddy Bear Song | CoComelon Nurser...     184.0         hd   \n",
       "\n",
       "     caption  madeForKids        views     likes  comments  publishedAtMonth  \\\n",
       "246     True         True  201211220.0  641294.0       1.0                 4   \n",
       "248     True         True  255277576.0  554877.0       1.0                 8   \n",
       "538    False         True  119111700.0  479524.0       1.0                 7   \n",
       "539    False         True   44703046.0  216468.0       1.0                10   \n",
       "826    False         True   53570612.0  265753.0       1.0                 1   \n",
       "827    False         True   13609426.0   75299.0       1.0                 2   \n",
       "\n",
       "     publishedAtDay  publishedAtYear         age  log_views  log_likes  \\\n",
       "246              23             2019   9684004.0  19.119866  13.371243   \n",
       "248               6             2019  18756002.0  19.357862  13.226502   \n",
       "538              14             2020  48391209.0  18.595572  13.080549   \n",
       "539              20             2020  56858415.0  17.615552  12.285198   \n",
       "826              25             2022  96778974.0  17.796511  12.490323   \n",
       "827              15             2022  98593207.0  16.426273  11.229222   \n",
       "\n",
       "     log_comments  \n",
       "246           0.0  \n",
       "248           0.0  \n",
       "538           0.0  \n",
       "539           0.0  \n",
       "826           0.0  \n",
       "827           0.0  "
      ]
     },
     "execution_count": 302,
     "metadata": {},
     "output_type": "execute_result"
    }
   ],
   "source": [
    "educ = get(df, \"category\", \"education\")\n",
    "educ[educ[\"log_views\"] > 16]"
   ]
  },
  {
   "cell_type": "markdown",
   "id": "fe2e349e",
   "metadata": {},
   "source": [
    "All of these videos are `madeForKids` and were published by the same creator. One could argue these are not necessarily educative (for adults) so this is perhaps misclassified by the Youtube creators/algorithms"
   ]
  },
  {
   "cell_type": "code",
   "execution_count": 303,
   "id": "bb1ce151",
   "metadata": {},
   "outputs": [
    {
     "data": {
      "text/html": [
       "<div>\n",
       "<style scoped>\n",
       "    .dataframe tbody tr th:only-of-type {\n",
       "        vertical-align: middle;\n",
       "    }\n",
       "\n",
       "    .dataframe tbody tr th {\n",
       "        vertical-align: top;\n",
       "    }\n",
       "\n",
       "    .dataframe thead th {\n",
       "        text-align: right;\n",
       "    }\n",
       "</style>\n",
       "<table border=\"1\" class=\"dataframe\">\n",
       "  <thead>\n",
       "    <tr style=\"text-align: right;\">\n",
       "      <th></th>\n",
       "      <th>videoId</th>\n",
       "      <th>publishedAt</th>\n",
       "      <th>category</th>\n",
       "      <th>timePeriod</th>\n",
       "      <th>title</th>\n",
       "      <th>duration</th>\n",
       "      <th>definition</th>\n",
       "      <th>caption</th>\n",
       "      <th>madeForKids</th>\n",
       "      <th>views</th>\n",
       "      <th>likes</th>\n",
       "      <th>comments</th>\n",
       "      <th>publishedAtMonth</th>\n",
       "      <th>publishedAtDay</th>\n",
       "      <th>publishedAtYear</th>\n",
       "      <th>age</th>\n",
       "      <th>log_views</th>\n",
       "      <th>log_likes</th>\n",
       "      <th>log_comments</th>\n",
       "    </tr>\n",
       "  </thead>\n",
       "  <tbody>\n",
       "    <tr>\n",
       "      <th>250</th>\n",
       "      <td>ZRCdORJiUgU</td>\n",
       "      <td>1.576051e+09</td>\n",
       "      <td>science/tech</td>\n",
       "      <td>before</td>\n",
       "      <td>Google — Year in Search 2019</td>\n",
       "      <td>126.0</td>\n",
       "      <td>hd</td>\n",
       "      <td>True</td>\n",
       "      <td>False</td>\n",
       "      <td>155780775.0</td>\n",
       "      <td>464421.0</td>\n",
       "      <td>22683.0</td>\n",
       "      <td>12</td>\n",
       "      <td>11</td>\n",
       "      <td>2019</td>\n",
       "      <td>29732484.0</td>\n",
       "      <td>18.863960</td>\n",
       "      <td>13.048547</td>\n",
       "      <td>10.029371</td>\n",
       "    </tr>\n",
       "    <tr>\n",
       "      <th>253</th>\n",
       "      <td>vl6jn-DdafM</td>\n",
       "      <td>1.557866e+09</td>\n",
       "      <td>science/tech</td>\n",
       "      <td>before</td>\n",
       "      <td>We Are Going</td>\n",
       "      <td>228.0</td>\n",
       "      <td>hd</td>\n",
       "      <td>True</td>\n",
       "      <td>False</td>\n",
       "      <td>15926064.0</td>\n",
       "      <td>1289006.0</td>\n",
       "      <td>1.0</td>\n",
       "      <td>5</td>\n",
       "      <td>14</td>\n",
       "      <td>2019</td>\n",
       "      <td>11547294.0</td>\n",
       "      <td>16.583468</td>\n",
       "      <td>14.069382</td>\n",
       "      <td>0.000000</td>\n",
       "    </tr>\n",
       "    <tr>\n",
       "      <th>269</th>\n",
       "      <td>nA9UZF-SZoQ</td>\n",
       "      <td>1.550165e+09</td>\n",
       "      <td>science/tech</td>\n",
       "      <td>before</td>\n",
       "      <td>NASA Live: Official Stream of NASA TV's Media ...</td>\n",
       "      <td>0.0</td>\n",
       "      <td>sd</td>\n",
       "      <td>False</td>\n",
       "      <td>False</td>\n",
       "      <td>16849322.0</td>\n",
       "      <td>349915.0</td>\n",
       "      <td>2.0</td>\n",
       "      <td>2</td>\n",
       "      <td>14</td>\n",
       "      <td>2019</td>\n",
       "      <td>3845923.0</td>\n",
       "      <td>16.639821</td>\n",
       "      <td>12.765446</td>\n",
       "      <td>0.693147</td>\n",
       "    </tr>\n",
       "    <tr>\n",
       "      <th>550</th>\n",
       "      <td>4czjS9h4Fpg</td>\n",
       "      <td>1.614021e+09</td>\n",
       "      <td>science/tech</td>\n",
       "      <td>during</td>\n",
       "      <td>Perseverance Rover’s Descent and Touchdown on ...</td>\n",
       "      <td>206.0</td>\n",
       "      <td>hd</td>\n",
       "      <td>True</td>\n",
       "      <td>False</td>\n",
       "      <td>15949945.0</td>\n",
       "      <td>371527.0</td>\n",
       "      <td>26959.0</td>\n",
       "      <td>2</td>\n",
       "      <td>22</td>\n",
       "      <td>2021</td>\n",
       "      <td>67702616.0</td>\n",
       "      <td>16.584966</td>\n",
       "      <td>12.825377</td>\n",
       "      <td>10.202072</td>\n",
       "    </tr>\n",
       "    <tr>\n",
       "      <th>559</th>\n",
       "      <td>rokGy0huYEA</td>\n",
       "      <td>1.607501e+09</td>\n",
       "      <td>science/tech</td>\n",
       "      <td>during</td>\n",
       "      <td>Google — Year in Search 2020</td>\n",
       "      <td>181.0</td>\n",
       "      <td>hd</td>\n",
       "      <td>True</td>\n",
       "      <td>False</td>\n",
       "      <td>242500336.0</td>\n",
       "      <td>261699.0</td>\n",
       "      <td>17293.0</td>\n",
       "      <td>12</td>\n",
       "      <td>9</td>\n",
       "      <td>2020</td>\n",
       "      <td>61181985.0</td>\n",
       "      <td>19.306514</td>\n",
       "      <td>12.474950</td>\n",
       "      <td>9.758057</td>\n",
       "    </tr>\n",
       "    <tr>\n",
       "      <th>850</th>\n",
       "      <td>EqboAI-Vk-U</td>\n",
       "      <td>1.638950e+09</td>\n",
       "      <td>science/tech</td>\n",
       "      <td>after</td>\n",
       "      <td>Google — Year In Search 2021</td>\n",
       "      <td>121.0</td>\n",
       "      <td>hd</td>\n",
       "      <td>True</td>\n",
       "      <td>False</td>\n",
       "      <td>238007970.0</td>\n",
       "      <td>168548.0</td>\n",
       "      <td>8736.0</td>\n",
       "      <td>12</td>\n",
       "      <td>8</td>\n",
       "      <td>2021</td>\n",
       "      <td>92631652.0</td>\n",
       "      <td>19.287815</td>\n",
       "      <td>12.034976</td>\n",
       "      <td>9.075208</td>\n",
       "    </tr>\n",
       "  </tbody>\n",
       "</table>\n",
       "</div>"
      ],
      "text/plain": [
       "         videoId   publishedAt      category timePeriod  \\\n",
       "250  ZRCdORJiUgU  1.576051e+09  science/tech     before   \n",
       "253  vl6jn-DdafM  1.557866e+09  science/tech     before   \n",
       "269  nA9UZF-SZoQ  1.550165e+09  science/tech     before   \n",
       "550  4czjS9h4Fpg  1.614021e+09  science/tech     during   \n",
       "559  rokGy0huYEA  1.607501e+09  science/tech     during   \n",
       "850  EqboAI-Vk-U  1.638950e+09  science/tech      after   \n",
       "\n",
       "                                                 title  duration definition  \\\n",
       "250                       Google — Year in Search 2019     126.0         hd   \n",
       "253                                       We Are Going     228.0         hd   \n",
       "269  NASA Live: Official Stream of NASA TV's Media ...       0.0         sd   \n",
       "550  Perseverance Rover’s Descent and Touchdown on ...     206.0         hd   \n",
       "559                       Google — Year in Search 2020     181.0         hd   \n",
       "850                       Google — Year In Search 2021     121.0         hd   \n",
       "\n",
       "     caption  madeForKids        views      likes  comments  publishedAtMonth  \\\n",
       "250     True        False  155780775.0   464421.0   22683.0                12   \n",
       "253     True        False   15926064.0  1289006.0       1.0                 5   \n",
       "269    False        False   16849322.0   349915.0       2.0                 2   \n",
       "550     True        False   15949945.0   371527.0   26959.0                 2   \n",
       "559     True        False  242500336.0   261699.0   17293.0                12   \n",
       "850     True        False  238007970.0   168548.0    8736.0                12   \n",
       "\n",
       "     publishedAtDay  publishedAtYear         age  log_views  log_likes  \\\n",
       "250              11             2019  29732484.0  18.863960  13.048547   \n",
       "253              14             2019  11547294.0  16.583468  14.069382   \n",
       "269              14             2019   3845923.0  16.639821  12.765446   \n",
       "550              22             2021  67702616.0  16.584966  12.825377   \n",
       "559               9             2020  61181985.0  19.306514  12.474950   \n",
       "850               8             2021  92631652.0  19.287815  12.034976   \n",
       "\n",
       "     log_comments  \n",
       "250     10.029371  \n",
       "253      0.000000  \n",
       "269      0.693147  \n",
       "550     10.202072  \n",
       "559      9.758057  \n",
       "850      9.075208  "
      ]
     },
     "execution_count": 303,
     "metadata": {},
     "output_type": "execute_result"
    }
   ],
   "source": [
    "st = get(df, \"category\", \"science/tech\")\n",
    "st[st[\"log_views\"] > 16]"
   ]
  },
  {
   "cell_type": "code",
   "execution_count": 307,
   "id": "4f031f55",
   "metadata": {},
   "outputs": [
    {
     "data": {
      "text/html": [
       "<div>\n",
       "<style scoped>\n",
       "    .dataframe tbody tr th:only-of-type {\n",
       "        vertical-align: middle;\n",
       "    }\n",
       "\n",
       "    .dataframe tbody tr th {\n",
       "        vertical-align: top;\n",
       "    }\n",
       "\n",
       "    .dataframe thead th {\n",
       "        text-align: right;\n",
       "    }\n",
       "</style>\n",
       "<table border=\"1\" class=\"dataframe\">\n",
       "  <thead>\n",
       "    <tr style=\"text-align: right;\">\n",
       "      <th></th>\n",
       "      <th>videoId</th>\n",
       "      <th>publishedAt</th>\n",
       "      <th>category</th>\n",
       "      <th>timePeriod</th>\n",
       "      <th>title</th>\n",
       "      <th>duration</th>\n",
       "      <th>definition</th>\n",
       "      <th>caption</th>\n",
       "      <th>madeForKids</th>\n",
       "      <th>views</th>\n",
       "      <th>likes</th>\n",
       "      <th>comments</th>\n",
       "      <th>publishedAtMonth</th>\n",
       "      <th>publishedAtDay</th>\n",
       "      <th>publishedAtYear</th>\n",
       "      <th>age</th>\n",
       "      <th>log_views</th>\n",
       "      <th>log_likes</th>\n",
       "      <th>log_comments</th>\n",
       "    </tr>\n",
       "  </thead>\n",
       "  <tbody>\n",
       "    <tr>\n",
       "      <th>150</th>\n",
       "      <td>tV9CcuD1QDY</td>\n",
       "      <td>1.555848e+09</td>\n",
       "      <td>news/politics</td>\n",
       "      <td>before</td>\n",
       "      <td>BTS rehearses choreography of \"Boy With Luv\"</td>\n",
       "      <td>214.0</td>\n",
       "      <td>hd</td>\n",
       "      <td>False</td>\n",
       "      <td>False</td>\n",
       "      <td>23657190.0</td>\n",
       "      <td>1173140.0</td>\n",
       "      <td>17439.0</td>\n",
       "      <td>4</td>\n",
       "      <td>21</td>\n",
       "      <td>2019</td>\n",
       "      <td>9529204.0</td>\n",
       "      <td>16.979178</td>\n",
       "      <td>13.975194</td>\n",
       "      <td>9.766464</td>\n",
       "    </tr>\n",
       "    <tr>\n",
       "      <th>151</th>\n",
       "      <td>sO-n-fqcV70</td>\n",
       "      <td>1.555438e+09</td>\n",
       "      <td>news/politics</td>\n",
       "      <td>before</td>\n",
       "      <td>Exclusive: North Korean Defector Whose Escape ...</td>\n",
       "      <td>121.0</td>\n",
       "      <td>hd</td>\n",
       "      <td>True</td>\n",
       "      <td>False</td>\n",
       "      <td>4319191.0</td>\n",
       "      <td>66511.0</td>\n",
       "      <td>5463.0</td>\n",
       "      <td>4</td>\n",
       "      <td>16</td>\n",
       "      <td>2019</td>\n",
       "      <td>9118793.0</td>\n",
       "      <td>15.278579</td>\n",
       "      <td>11.105123</td>\n",
       "      <td>8.605753</td>\n",
       "    </tr>\n",
       "    <tr>\n",
       "      <th>160</th>\n",
       "      <td>_Tc4e1KH0UU</td>\n",
       "      <td>1.549208e+09</td>\n",
       "      <td>news/politics</td>\n",
       "      <td>before</td>\n",
       "      <td>Linda Ronstadt speaks</td>\n",
       "      <td>575.0</td>\n",
       "      <td>hd</td>\n",
       "      <td>False</td>\n",
       "      <td>False</td>\n",
       "      <td>3646236.0</td>\n",
       "      <td>40216.0</td>\n",
       "      <td>6226.0</td>\n",
       "      <td>2</td>\n",
       "      <td>3</td>\n",
       "      <td>2019</td>\n",
       "      <td>2889679.0</td>\n",
       "      <td>15.109206</td>\n",
       "      <td>10.602020</td>\n",
       "      <td>8.736489</td>\n",
       "    </tr>\n",
       "    <tr>\n",
       "      <th>170</th>\n",
       "      <td>nDzhoofkRJI</td>\n",
       "      <td>1.566747e+09</td>\n",
       "      <td>news/politics</td>\n",
       "      <td>before</td>\n",
       "      <td>Taylor Swift on \"Lover\" and haters</td>\n",
       "      <td>717.0</td>\n",
       "      <td>hd</td>\n",
       "      <td>False</td>\n",
       "      <td>False</td>\n",
       "      <td>3632943.0</td>\n",
       "      <td>106470.0</td>\n",
       "      <td>5380.0</td>\n",
       "      <td>8</td>\n",
       "      <td>25</td>\n",
       "      <td>2019</td>\n",
       "      <td>20428621.0</td>\n",
       "      <td>15.105554</td>\n",
       "      <td>11.575619</td>\n",
       "      <td>8.590444</td>\n",
       "    </tr>\n",
       "    <tr>\n",
       "      <th>171</th>\n",
       "      <td>HVVN1fmUjXM</td>\n",
       "      <td>1.579874e+09</td>\n",
       "      <td>news/politics</td>\n",
       "      <td>before</td>\n",
       "      <td>Billie Eilish: \"Nobody that knows me thinks I'...</td>\n",
       "      <td>465.0</td>\n",
       "      <td>hd</td>\n",
       "      <td>False</td>\n",
       "      <td>False</td>\n",
       "      <td>5978171.0</td>\n",
       "      <td>164615.0</td>\n",
       "      <td>7118.0</td>\n",
       "      <td>1</td>\n",
       "      <td>24</td>\n",
       "      <td>2020</td>\n",
       "      <td>33555603.0</td>\n",
       "      <td>15.603625</td>\n",
       "      <td>12.011365</td>\n",
       "      <td>8.870382</td>\n",
       "    </tr>\n",
       "    <tr>\n",
       "      <th>450</th>\n",
       "      <td>qNZ8XCobUUM</td>\n",
       "      <td>1.611210e+09</td>\n",
       "      <td>news/politics</td>\n",
       "      <td>during</td>\n",
       "      <td>Katy Perry - Firework (Live from Celebrating A...</td>\n",
       "      <td>267.0</td>\n",
       "      <td>hd</td>\n",
       "      <td>False</td>\n",
       "      <td>False</td>\n",
       "      <td>11557542.0</td>\n",
       "      <td>476432.0</td>\n",
       "      <td>26015.0</td>\n",
       "      <td>1</td>\n",
       "      <td>21</td>\n",
       "      <td>2021</td>\n",
       "      <td>64891242.0</td>\n",
       "      <td>16.262849</td>\n",
       "      <td>13.074080</td>\n",
       "      <td>10.166429</td>\n",
       "    </tr>\n",
       "    <tr>\n",
       "      <th>774</th>\n",
       "      <td>ygkcwU0SWNk</td>\n",
       "      <td>1.635690e+09</td>\n",
       "      <td>news/politics</td>\n",
       "      <td>after</td>\n",
       "      <td>The return of ABBA</td>\n",
       "      <td>595.0</td>\n",
       "      <td>hd</td>\n",
       "      <td>False</td>\n",
       "      <td>False</td>\n",
       "      <td>3609730.0</td>\n",
       "      <td>56178.0</td>\n",
       "      <td>4857.0</td>\n",
       "      <td>10</td>\n",
       "      <td>31</td>\n",
       "      <td>2021</td>\n",
       "      <td>89370722.0</td>\n",
       "      <td>15.099144</td>\n",
       "      <td>10.936281</td>\n",
       "      <td>8.488176</td>\n",
       "    </tr>\n",
       "  </tbody>\n",
       "</table>\n",
       "</div>"
      ],
      "text/plain": [
       "         videoId   publishedAt       category timePeriod  \\\n",
       "150  tV9CcuD1QDY  1.555848e+09  news/politics     before   \n",
       "151  sO-n-fqcV70  1.555438e+09  news/politics     before   \n",
       "160  _Tc4e1KH0UU  1.549208e+09  news/politics     before   \n",
       "170  nDzhoofkRJI  1.566747e+09  news/politics     before   \n",
       "171  HVVN1fmUjXM  1.579874e+09  news/politics     before   \n",
       "450  qNZ8XCobUUM  1.611210e+09  news/politics     during   \n",
       "774  ygkcwU0SWNk  1.635690e+09  news/politics      after   \n",
       "\n",
       "                                                 title  duration definition  \\\n",
       "150       BTS rehearses choreography of \"Boy With Luv\"     214.0         hd   \n",
       "151  Exclusive: North Korean Defector Whose Escape ...     121.0         hd   \n",
       "160                              Linda Ronstadt speaks     575.0         hd   \n",
       "170                 Taylor Swift on \"Lover\" and haters     717.0         hd   \n",
       "171  Billie Eilish: \"Nobody that knows me thinks I'...     465.0         hd   \n",
       "450  Katy Perry - Firework (Live from Celebrating A...     267.0         hd   \n",
       "774                                 The return of ABBA     595.0         hd   \n",
       "\n",
       "     caption  madeForKids       views      likes  comments  publishedAtMonth  \\\n",
       "150    False        False  23657190.0  1173140.0   17439.0                 4   \n",
       "151     True        False   4319191.0    66511.0    5463.0                 4   \n",
       "160    False        False   3646236.0    40216.0    6226.0                 2   \n",
       "170    False        False   3632943.0   106470.0    5380.0                 8   \n",
       "171    False        False   5978171.0   164615.0    7118.0                 1   \n",
       "450    False        False  11557542.0   476432.0   26015.0                 1   \n",
       "774    False        False   3609730.0    56178.0    4857.0                10   \n",
       "\n",
       "     publishedAtDay  publishedAtYear         age  log_views  log_likes  \\\n",
       "150              21             2019   9529204.0  16.979178  13.975194   \n",
       "151              16             2019   9118793.0  15.278579  11.105123   \n",
       "160               3             2019   2889679.0  15.109206  10.602020   \n",
       "170              25             2019  20428621.0  15.105554  11.575619   \n",
       "171              24             2020  33555603.0  15.603625  12.011365   \n",
       "450              21             2021  64891242.0  16.262849  13.074080   \n",
       "774              31             2021  89370722.0  15.099144  10.936281   \n",
       "\n",
       "     log_comments  \n",
       "150      9.766464  \n",
       "151      8.605753  \n",
       "160      8.736489  \n",
       "170      8.590444  \n",
       "171      8.870382  \n",
       "450     10.166429  \n",
       "774      8.488176  "
      ]
     },
     "execution_count": 307,
     "metadata": {},
     "output_type": "execute_result"
    }
   ],
   "source": [
    "news = get(df, \"category\", \"news/politics\")\n",
    "news[news[\"log_views\"] > 15]"
   ]
  },
  {
   "cell_type": "markdown",
   "id": "6659c71c",
   "metadata": {},
   "source": [
    "All of these `news/politics` videos, while relevant to the category, are inherently about an entertainment related entity (Eg: News story about return of ABBA (music band) or live performance of Katy Perry (singer) at a political event)"
   ]
  },
  {
   "cell_type": "markdown",
   "id": "695b419e",
   "metadata": {},
   "source": [
    "## Compare `views` across `timePeriod` and `category`"
   ]
  },
  {
   "cell_type": "code",
   "execution_count": 333,
   "id": "ccc7e53f",
   "metadata": {},
   "outputs": [],
   "source": [
    "leisure = subsets[0]\n",
    "leisure_before = get(leisure, \"timePeriod\", \"before\")\n",
    "leisure_during = get(leisure, \"timePeriod\", \"during\")\n",
    "leisure_after = get(leisure, \"timePeriod\", \"after\")\n",
    "professional = subsets[5]\n",
    "professional_before = get(professional, \"timePeriod\", \"before\")\n",
    "professional_during = get(professional, \"timePeriod\", \"during\")\n",
    "professional_after = get(professional, \"timePeriod\", \"after\")"
   ]
  },
  {
   "cell_type": "code",
   "execution_count": 335,
   "id": "0fdc9db5",
   "metadata": {},
   "outputs": [
    {
     "data": {
      "image/png": "[encoded data removed]",
      "text/plain": [
       "<Figure size 432x288 with 2 Axes>"
      ]
     },
     "metadata": {
      "needs_background": "light"
     },
     "output_type": "display_data"
    }
   ],
   "source": [
    "f, (ax1, ax2) = plt.subplots(1, 2, sharey=True)\n",
    "ax1.boxplot([(leisure_before[\"log_views\"]), (leisure_during[\"log_views\"]), (leisure_after[\"log_views\"])])\n",
    "_ = ax1.set_title(\"Leisure (Music)\")\n",
    "ax2.boxplot([(professional_before[\"log_views\"]), (professional_during[\"log_views\"]), (professional_after[\"log_views\"])])\n",
    "_ = ax2.set_title(\"Professional (Science/Tech)\")"
   ]
  },
  {
   "cell_type": "markdown",
   "id": "f33f6993",
   "metadata": {},
   "source": [
    "The views went up for Science/Tech videos published during the pandemic period"
   ]
  },
  {
   "cell_type": "markdown",
   "id": "b315e5ef",
   "metadata": {},
   "source": [
    "## Compare `duration` across `category`"
   ]
  },
  {
   "cell_type": "code",
   "execution_count": 151,
   "id": "4599285c",
   "metadata": {},
   "outputs": [
    {
     "data": {
      "image/png": "[encoded data removed]",
      "text/plain": [
       "<Figure size 432x288 with 1 Axes>"
      ]
     },
     "metadata": {
      "needs_background": "light"
     },
     "output_type": "display_data"
    }
   ],
   "source": [
    "_ = plt.boxplot([s[\"duration\"] for s in subsets], showfliers=False)"
   ]
  },
  {
   "cell_type": "markdown",
   "id": "9d35606b",
   "metadata": {},
   "source": [
    "The music category seems to have the smallest durations of all categories. Entertainment and Education categories have a wider range of durations for their own respective reasons (Entertainment could include TV shows or candid interviews etc, and education includes tutorials or lectures which are long in length)"
   ]
  },
  {
   "cell_type": "markdown",
   "id": "4657cb32",
   "metadata": {},
   "source": [
    "## Compare `duration` vs `views`"
   ]
  },
  {
   "cell_type": "code",
   "execution_count": 344,
   "id": "b931947a",
   "metadata": {},
   "outputs": [
    {
     "data": {
      "image/png": "[encoded data removed]",
      "text/plain": [
       "<Figure size 432x288 with 1 Axes>"
      ]
     },
     "metadata": {
      "needs_background": "light"
     },
     "output_type": "display_data"
    }
   ],
   "source": [
    "colors = {\n",
    "    \"science/tech\": \"salmon\", \n",
    "    \"education\": \"salmon\",\n",
    "    \"news/politics\": \"salmon\",\n",
    "    \"music\": \"limegreen\", \n",
    "    \"entertainment\": \"limegreen\",\n",
    "    \"comedy\": \"limegreen\",\n",
    "}\n",
    "_ = plt.scatter(df[\"duration\"], df[\"log_views\"], c=df[\"category\"].map(colors))"
   ]
  },
  {
   "cell_type": "code",
   "execution_count": 341,
   "id": "282ac23b",
   "metadata": {},
   "outputs": [
    {
     "data": {
      "image/png": "[encoded data removed]",
      "text/plain": [
       "<Figure size 432x288 with 1 Axes>"
      ]
     },
     "metadata": {
      "needs_background": "light"
     },
     "output_type": "display_data"
    }
   ],
   "source": [
    "_ = plt.scatter(educ[\"duration\"], educ[\"log_views\"])"
   ]
  },
  {
   "cell_type": "code",
   "execution_count": 343,
   "id": "cb19f4c0",
   "metadata": {
    "scrolled": true
   },
   "outputs": [
    {
     "data": {
      "image/png": "[encoded data removed]",
      "text/plain": [
       "<Figure size 432x288 with 1 Axes>"
      ]
     },
     "metadata": {
      "needs_background": "light"
     },
     "output_type": "display_data"
    }
   ],
   "source": [
    "music = get(df, \"category\", \"music\")\n",
    "_ = plt.scatter(music[\"duration\"], music[\"log_views\"])"
   ]
  },
  {
   "cell_type": "markdown",
   "id": "ab48ca25",
   "metadata": {},
   "source": [
    "There is mostly constant variance across all values of duration, so we expect duration to not have a big impact on the number of views.\n",
    "\n",
    "Note: Youtube counts 30s of watching as a \"view\", so a lengthy video may still have a high view count even if it hasn't been watched completely"
   ]
  },
  {
   "cell_type": "markdown",
   "id": "9c3a5f8f",
   "metadata": {},
   "source": [
    "## Clustering"
   ]
  },
  {
   "cell_type": "code",
   "execution_count": 346,
   "id": "19f63ad4",
   "metadata": {},
   "outputs": [
    {
     "data": {
      "image/png": "[encoded data removed]",
      "text/plain": [
       "<Figure size 432x288 with 1 Axes>"
      ]
     },
     "metadata": {
      "needs_background": "light"
     },
     "output_type": "display_data"
    }
   ],
   "source": [
    "_ = plt.scatter(np.log(df[\"log_likes\"]), df[\"log_views\"], c=df[\"category\"].map(colors), alpha=0.8, marker=\".\", s=35)"
   ]
  },
  {
   "cell_type": "markdown",
   "id": "497ac25e",
   "metadata": {},
   "source": [
    "All professional categories are marked in salmon, and leisurely ones are in green. The difference is only in the number of views and likes, but there are many points that are not distinguishable i.e they have similar view/like counts but are of different categories.\n",
    "\n",
    "We don't expect to see good clusters from clustering algorithms."
   ]
  },
  {
   "cell_type": "code",
   "execution_count": 240,
   "id": "c2043ac7",
   "metadata": {},
   "outputs": [],
   "source": [
    "from sklearn.cluster import KMeans"
   ]
  },
  {
   "cell_type": "code",
   "execution_count": 274,
   "id": "272e16cb",
   "metadata": {},
   "outputs": [],
   "source": [
    "kmeans = KMeans(n_clusters=2)"
   ]
  },
  {
   "cell_type": "code",
   "execution_count": 347,
   "id": "43fe400f",
   "metadata": {},
   "outputs": [
    {
     "data": {
      "image/png": "[encoded data removed]",
      "text/plain": [
       "<Figure size 432x288 with 1 Axes>"
      ]
     },
     "metadata": {
      "needs_background": "light"
     },
     "output_type": "display_data"
    }
   ],
   "source": [
    "kfit = kmeans.fit(df[[\"duration\", \"age\", \"log_views\", \"log_likes\", \"log_comments\", \"publishedAt\"]])\n",
    "colors = {0: \"salmon\", 1: \"limegreen\"}\n",
    "_ = plt.scatter(np.log(df[\"log_likes\"]), df[\"log_views\"], c=list(map(lambda l: colors[l], kfit.labels_)), alpha=0.8, marker=\".\", s=35)"
   ]
  }
 ],
 "metadata": {
  "kernelspec": {
   "display_name": "Python 3",
   "language": "python",
   "name": "python3"
  },
  "language_info": {
   "codemirror_mode": {
    "name": "ipython",
    "version": 3
   },
   "file_extension": ".py",
   "mimetype": "text/x-python",
   "name": "python",
   "nbconvert_exporter": "python",
   "pygments_lexer": "ipython3",
   "version": "3.8.8"
  }
 },
 "nbformat": 4,
 "nbformat_minor": 5
}
