{
 "cells": [
  {
   "cell_type": "code",
   "execution_count": 68,
   "metadata": {},
   "outputs": [],
   "source": [
    "options(warn = -1)\n",
    "library(tidyverse)\n",
    "library(ggpubr)\n",
    "library(patchwork)\n",
    "\n",
    "library(dplyr)\n",
    "suppressMessages(library(tidyverse))\n",
    "library(MASS)\n",
    "library(nnet)\n",
    "library(class)\n",
    "\n",
    "library(tidyr)\n",
    "library(rpart)\n",
    "library(rpart.plot)  \n",
    "library(rattle)"
   ]
  },
  {
   "cell_type": "code",
   "execution_count": 2,
   "metadata": {},
   "outputs": [
    {
     "data": {
      "text/html": [
       "<table class=\"dataframe\">\n",
       "<caption>A data.frame: 6 × 12</caption>\n",
       "<thead>\n",
       "\t<tr><th></th><th scope=col>videoId</th><th scope=col>publishedAt</th><th scope=col>category</th><th scope=col>timePeriod</th><th scope=col>title</th><th scope=col>duration</th><th scope=col>definition</th><th scope=col>caption</th><th scope=col>madeForKids</th><th scope=col>views</th><th scope=col>likes</th><th scope=col>comments</th></tr>\n",
       "\t<tr><th></th><th scope=col>&lt;chr&gt;</th><th scope=col>&lt;chr&gt;</th><th scope=col>&lt;chr&gt;</th><th scope=col>&lt;chr&gt;</th><th scope=col>&lt;chr&gt;</th><th scope=col>&lt;chr&gt;</th><th scope=col>&lt;chr&gt;</th><th scope=col>&lt;chr&gt;</th><th scope=col>&lt;chr&gt;</th><th scope=col>&lt;int&gt;</th><th scope=col>&lt;int&gt;</th><th scope=col>&lt;int&gt;</th></tr>\n",
       "</thead>\n",
       "<tbody>\n",
       "\t<tr><th scope=row>1</th><td>q07RanslaGM</td><td>2019-07-12T04:00:04Z</td><td>music</td><td>before</td><td>Ed Sheeran - South of the Border (feat. Camila Cabello &amp; Cardi B) [Official Lyric Video]</td><td>PT3M24S</td><td>hd</td><td>false</td><td>False</td><td> 67572870</td><td> 903802</td><td>23708</td></tr>\n",
       "\t<tr><th scope=row>2</th><td>74yb9E3WY1I</td><td>2019-06-28T04:00:00Z</td><td>music</td><td>before</td><td>Ed Sheeran - Beautiful People (feat. Khalid) [Official Lyric Video]                     </td><td>PT3M18S</td><td>hd</td><td>false</td><td>False</td><td> 85421793</td><td> 756722</td><td>19163</td></tr>\n",
       "\t<tr><th scope=row>3</th><td>_1MnmVjZ__Y</td><td>2019-03-19T17:00:09Z</td><td>music</td><td>before</td><td>Lukas Graham - Love Someone [Live at Royal Arena]                                       </td><td>PT4M42S</td><td>hd</td><td>false</td><td>False</td><td> 10247816</td><td> 102336</td><td> 2089</td></tr>\n",
       "\t<tr><th scope=row>4</th><td>mj0XInqZMHY</td><td>2019-06-28T07:00:05Z</td><td>music</td><td>before</td><td>Ed Sheeran - Beautiful People (feat. Khalid) [Official Music Video]                     </td><td>PT3M48S</td><td>hd</td><td>false</td><td>False</td><td>324855784</td><td>2642952</td><td>54724</td></tr>\n",
       "\t<tr><th scope=row>5</th><td>uKqRAC-JNOM</td><td>2019-02-15T05:00:05Z</td><td>music</td><td>before</td><td>Ariana Grande - bloodline (Audio)                                                       </td><td>PT3M38S</td><td>hd</td><td>false</td><td>False</td><td> 47656034</td><td> 490115</td><td>10814</td></tr>\n",
       "\t<tr><th scope=row>6</th><td>ryJgDL9jzKk</td><td>2019-12-22T10:00:43Z</td><td>music</td><td>before</td><td>Ed Sheeran - Put It All On Me (feat. Ella Mai) [Official Music Video]                   </td><td>PT3M38S</td><td>hd</td><td>false</td><td>False</td><td> 60842509</td><td> 843427</td><td>21250</td></tr>\n",
       "</tbody>\n",
       "</table>\n"
      ],
      "text/latex": [
       "A data.frame: 6 × 12\n",
       "\\begin{tabular}{r|llllllllllll}\n",
       "  & videoId & publishedAt & category & timePeriod & title & duration & definition & caption & madeForKids & views & likes & comments\\\\\n",
       "  & <chr> & <chr> & <chr> & <chr> & <chr> & <chr> & <chr> & <chr> & <chr> & <int> & <int> & <int>\\\\\n",
       "\\hline\n",
       "\t1 & q07RanslaGM & 2019-07-12T04:00:04Z & music & before & Ed Sheeran - South of the Border (feat. Camila Cabello \\& Cardi B) {[}Official Lyric Video{]} & PT3M24S & hd & false & False &  67572870 &  903802 & 23708\\\\\n",
       "\t2 & 74yb9E3WY1I & 2019-06-28T04:00:00Z & music & before & Ed Sheeran - Beautiful People (feat. Khalid) {[}Official Lyric Video{]}                      & PT3M18S & hd & false & False &  85421793 &  756722 & 19163\\\\\n",
       "\t3 & \\_1MnmVjZ\\_\\_Y & 2019-03-19T17:00:09Z & music & before & Lukas Graham - Love Someone {[}Live at Royal Arena{]}                                        & PT4M42S & hd & false & False &  10247816 &  102336 &  2089\\\\\n",
       "\t4 & mj0XInqZMHY & 2019-06-28T07:00:05Z & music & before & Ed Sheeran - Beautiful People (feat. Khalid) {[}Official Music Video{]}                      & PT3M48S & hd & false & False & 324855784 & 2642952 & 54724\\\\\n",
       "\t5 & uKqRAC-JNOM & 2019-02-15T05:00:05Z & music & before & Ariana Grande - bloodline (Audio)                                                        & PT3M38S & hd & false & False &  47656034 &  490115 & 10814\\\\\n",
       "\t6 & ryJgDL9jzKk & 2019-12-22T10:00:43Z & music & before & Ed Sheeran - Put It All On Me (feat. Ella Mai) {[}Official Music Video{]}                    & PT3M38S & hd & false & False &  60842509 &  843427 & 21250\\\\\n",
       "\\end{tabular}\n"
      ],
      "text/markdown": [
       "\n",
       "A data.frame: 6 × 12\n",
       "\n",
       "| <!--/--> | videoId &lt;chr&gt; | publishedAt &lt;chr&gt; | category &lt;chr&gt; | timePeriod &lt;chr&gt; | title &lt;chr&gt; | duration &lt;chr&gt; | definition &lt;chr&gt; | caption &lt;chr&gt; | madeForKids &lt;chr&gt; | views &lt;int&gt; | likes &lt;int&gt; | comments &lt;int&gt; |\n",
       "|---|---|---|---|---|---|---|---|---|---|---|---|---|\n",
       "| 1 | q07RanslaGM | 2019-07-12T04:00:04Z | music | before | Ed Sheeran - South of the Border (feat. Camila Cabello &amp; Cardi B) [Official Lyric Video] | PT3M24S | hd | false | False |  67572870 |  903802 | 23708 |\n",
       "| 2 | 74yb9E3WY1I | 2019-06-28T04:00:00Z | music | before | Ed Sheeran - Beautiful People (feat. Khalid) [Official Lyric Video]                      | PT3M18S | hd | false | False |  85421793 |  756722 | 19163 |\n",
       "| 3 | _1MnmVjZ__Y | 2019-03-19T17:00:09Z | music | before | Lukas Graham - Love Someone [Live at Royal Arena]                                        | PT4M42S | hd | false | False |  10247816 |  102336 |  2089 |\n",
       "| 4 | mj0XInqZMHY | 2019-06-28T07:00:05Z | music | before | Ed Sheeran - Beautiful People (feat. Khalid) [Official Music Video]                      | PT3M48S | hd | false | False | 324855784 | 2642952 | 54724 |\n",
       "| 5 | uKqRAC-JNOM | 2019-02-15T05:00:05Z | music | before | Ariana Grande - bloodline (Audio)                                                        | PT3M38S | hd | false | False |  47656034 |  490115 | 10814 |\n",
       "| 6 | ryJgDL9jzKk | 2019-12-22T10:00:43Z | music | before | Ed Sheeran - Put It All On Me (feat. Ella Mai) [Official Music Video]                    | PT3M38S | hd | false | False |  60842509 |  843427 | 21250 |\n",
       "\n"
      ],
      "text/plain": [
       "  videoId     publishedAt          category timePeriod\n",
       "1 q07RanslaGM 2019-07-12T04:00:04Z music    before    \n",
       "2 74yb9E3WY1I 2019-06-28T04:00:00Z music    before    \n",
       "3 _1MnmVjZ__Y 2019-03-19T17:00:09Z music    before    \n",
       "4 mj0XInqZMHY 2019-06-28T07:00:05Z music    before    \n",
       "5 uKqRAC-JNOM 2019-02-15T05:00:05Z music    before    \n",
       "6 ryJgDL9jzKk 2019-12-22T10:00:43Z music    before    \n",
       "  title                                                                                   \n",
       "1 Ed Sheeran - South of the Border (feat. Camila Cabello & Cardi B) [Official Lyric Video]\n",
       "2 Ed Sheeran - Beautiful People (feat. Khalid) [Official Lyric Video]                     \n",
       "3 Lukas Graham - Love Someone [Live at Royal Arena]                                       \n",
       "4 Ed Sheeran - Beautiful People (feat. Khalid) [Official Music Video]                     \n",
       "5 Ariana Grande - bloodline (Audio)                                                       \n",
       "6 Ed Sheeran - Put It All On Me (feat. Ella Mai) [Official Music Video]                   \n",
       "  duration definition caption madeForKids views     likes   comments\n",
       "1 PT3M24S  hd         false   False        67572870  903802 23708   \n",
       "2 PT3M18S  hd         false   False        85421793  756722 19163   \n",
       "3 PT4M42S  hd         false   False        10247816  102336  2089   \n",
       "4 PT3M48S  hd         false   False       324855784 2642952 54724   \n",
       "5 PT3M38S  hd         false   False        47656034  490115 10814   \n",
       "6 PT3M38S  hd         false   False        60842509  843427 21250   "
      ]
     },
     "metadata": {},
     "output_type": "display_data"
    }
   ],
   "source": [
    "dat=read.csv(file = 'data.csv',encoding=\"UTF-8\")\n",
    "head(dat)"
   ]
  },
  {
   "cell_type": "code",
   "execution_count": 3,
   "metadata": {},
   "outputs": [
    {
     "data": {
      "text/plain": [
       "   videoId          publishedAt          category          timePeriod       \n",
       " Length:897         Length:897         Length:897         Length:897        \n",
       " Class :character   Class :character   Class :character   Class :character  \n",
       " Mode  :character   Mode  :character   Mode  :character   Mode  :character  \n",
       "                                                                            \n",
       "                                                                            \n",
       "                                                                            \n",
       "                                                                            \n",
       "    title             duration          definition          caption         \n",
       " Length:897         Length:897         Length:897         Length:897        \n",
       " Class :character   Class :character   Class :character   Class :character  \n",
       " Mode  :character   Mode  :character   Mode  :character   Mode  :character  \n",
       "                                                                            \n",
       "                                                                            \n",
       "                                                                            \n",
       "                                                                            \n",
       " madeForKids            views               likes            comments       \n",
       " Length:897         Min.   :     5745   Min.   :     14   Min.   :     0.0  \n",
       " Class :character   1st Qu.:   176036   1st Qu.:   3267   1st Qu.:   136.2  \n",
       " Mode  :character   Median :   951992   Median :  16439   Median :   711.0  \n",
       "                    Mean   : 13910155   Mean   : 168716   Mean   :  5698.4  \n",
       "                    3rd Qu.:  5665407   3rd Qu.:  95726   3rd Qu.:  2730.8  \n",
       "                    Max.   :816253560   Max.   :8524613   Max.   :257612.0  \n",
       "                    NA's   :3           NA's   :22        NA's   :113       "
      ]
     },
     "metadata": {},
     "output_type": "display_data"
    }
   ],
   "source": [
    "summary(dat)"
   ]
  },
  {
   "cell_type": "code",
   "execution_count": 4,
   "metadata": {},
   "outputs": [
    {
     "name": "stdout",
     "output_type": "stream",
     "text": [
      "'data.frame':\t897 obs. of  12 variables:\n",
      " $ videoId    : chr  \"q07RanslaGM\" \"74yb9E3WY1I\" \"_1MnmVjZ__Y\" \"mj0XInqZMHY\" ...\n",
      " $ publishedAt: chr  \"2019-07-12T04:00:04Z\" \"2019-06-28T04:00:00Z\" \"2019-03-19T17:00:09Z\" \"2019-06-28T07:00:05Z\" ...\n",
      " $ category   : chr  \"music\" \"music\" \"music\" \"music\" ...\n",
      " $ timePeriod : chr  \"before\" \"before\" \"before\" \"before\" ...\n",
      " $ title      : chr  \"Ed Sheeran - South of the Border (feat. Camila Cabello & Cardi B) [Official Lyric Video]\" \"Ed Sheeran - Beautiful People (feat. Khalid) [Official Lyric Video]\" \"Lukas Graham - Love Someone [Live at Royal Arena]\" \"Ed Sheeran - Beautiful People (feat. Khalid) [Official Music Video]\" ...\n",
      " $ duration   : chr  \"PT3M24S\" \"PT3M18S\" \"PT4M42S\" \"PT3M48S\" ...\n",
      " $ definition : chr  \"hd\" \"hd\" \"hd\" \"hd\" ...\n",
      " $ caption    : chr  \"false\" \"false\" \"false\" \"false\" ...\n",
      " $ madeForKids: chr  \"False\" \"False\" \"False\" \"False\" ...\n",
      " $ views      : int  67572870 85421793 10247816 324855784 47656034 60842509 9880858 17000817 816253560 48754147 ...\n",
      " $ likes      : int  903802 756722 102336 2642952 490115 843427 285497 204078 8524613 665565 ...\n",
      " $ comments   : int  23708 19163 2089 54724 10814 21250 7052 2990 257612 15789 ...\n"
     ]
    }
   ],
   "source": [
    "str(dat)"
   ]
  },
  {
   "cell_type": "code",
   "execution_count": 5,
   "metadata": {},
   "outputs": [
    {
     "data": {
      "text/plain": [
       "   videoId          publishedAt                 category    timePeriod \n",
       " Length:897         Length:897         comedy       :150   after :297  \n",
       " Class :character   Class :character   education    :150   before:300  \n",
       " Mode  :character   Mode  :character   entertainment:147   during:300  \n",
       "                                       music        :150               \n",
       "                                       news/politics:150               \n",
       "                                       science/tech :150               \n",
       "                                                                       \n",
       "    title             duration         definition  caption    madeForKids\n",
       " Length:897         Length:897         hd:869     false:556   False:823  \n",
       " Class :character   Class :character   sd: 28     true :341   True : 74  \n",
       " Mode  :character   Mode  :character                                     \n",
       "                                                                         \n",
       "                                                                         \n",
       "                                                                         \n",
       "                                                                         \n",
       "     views               likes            comments       \n",
       " Min.   :     5745   Min.   :     14   Min.   :     0.0  \n",
       " 1st Qu.:   176036   1st Qu.:   3267   1st Qu.:   136.2  \n",
       " Median :   951992   Median :  16439   Median :   711.0  \n",
       " Mean   : 13910155   Mean   : 168716   Mean   :  5698.4  \n",
       " 3rd Qu.:  5665407   3rd Qu.:  95726   3rd Qu.:  2730.8  \n",
       " Max.   :816253560   Max.   :8524613   Max.   :257612.0  \n",
       " NA's   :3           NA's   :22        NA's   :113       "
      ]
     },
     "metadata": {},
     "output_type": "display_data"
    }
   ],
   "source": [
    "dat$category=as.factor(dat$category)\n",
    "dat$timePeriod=as.factor(dat$timePeriod)\n",
    "dat$definition=as.factor(dat$definition)\n",
    "dat$caption=as.factor(dat$caption)\n",
    "dat$madeForKids=as.factor(dat$madeForKids)\n",
    "dat$views=as.numeric(dat$views)\n",
    "dat$likes=as.numeric(dat$likes)\n",
    "dat$comments=as.numeric(dat$comments)\n",
    "summary(dat)"
   ]
  },
  {
   "cell_type": "markdown",
   "metadata": {},
   "source": [
    "transfer 'duration' from different patterns to seconds by using regular expressions"
   ]
  },
  {
   "cell_type": "code",
   "execution_count": 6,
   "metadata": {},
   "outputs": [
    {
     "data": {
      "text/html": [
       "<style>\n",
       ".list-inline {list-style: none; margin:0; padding: 0}\n",
       ".list-inline>li {display: inline-block}\n",
       ".list-inline>li:not(:last-child)::after {content: \"\\00b7\"; padding: 0 .5ex}\n",
       "</style>\n",
       "<ol class=list-inline><li>'PT3M'</li><li>'P0D'</li><li>'P0D'</li><li>'P0D'</li><li>'PT1H11M2S'</li><li>'PT1H23M46S'</li><li>'PT1H44M58S'</li><li>'PT3M'</li><li>'P0D'</li><li>'PT4M'</li><li>'P0D'</li><li>'P0D'</li><li>'P0D'</li><li>'P0D'</li><li>'P0D'</li><li>'PT30S'</li><li>'PT45S'</li><li>'PT31S'</li><li>'PT18S'</li><li>'PT21S'</li><li>'PT16M'</li><li>'PT2M'</li><li>'PT3M'</li><li>'PT35S'</li><li>'PT1M'</li><li>'PT2M'</li><li>'PT3M'</li><li>'P0D'</li><li>'P0D'</li><li>'P0D'</li><li>'P0D'</li><li>'P0D'</li><li>'PT42S'</li><li>'PT1H44M18S'</li><li>'PT41S'</li><li>'PT4M'</li><li>'PT4M'</li><li>'PT59S'</li><li>'P0D'</li><li>'P0D'</li><li>'P0D'</li><li>'PT41S'</li><li>'PT57S'</li><li>'PT1H18S'</li><li>'PT21S'</li><li>'PT1M'</li></ol>\n"
      ],
      "text/latex": [
       "\\begin{enumerate*}\n",
       "\\item 'PT3M'\n",
       "\\item 'P0D'\n",
       "\\item 'P0D'\n",
       "\\item 'P0D'\n",
       "\\item 'PT1H11M2S'\n",
       "\\item 'PT1H23M46S'\n",
       "\\item 'PT1H44M58S'\n",
       "\\item 'PT3M'\n",
       "\\item 'P0D'\n",
       "\\item 'PT4M'\n",
       "\\item 'P0D'\n",
       "\\item 'P0D'\n",
       "\\item 'P0D'\n",
       "\\item 'P0D'\n",
       "\\item 'P0D'\n",
       "\\item 'PT30S'\n",
       "\\item 'PT45S'\n",
       "\\item 'PT31S'\n",
       "\\item 'PT18S'\n",
       "\\item 'PT21S'\n",
       "\\item 'PT16M'\n",
       "\\item 'PT2M'\n",
       "\\item 'PT3M'\n",
       "\\item 'PT35S'\n",
       "\\item 'PT1M'\n",
       "\\item 'PT2M'\n",
       "\\item 'PT3M'\n",
       "\\item 'P0D'\n",
       "\\item 'P0D'\n",
       "\\item 'P0D'\n",
       "\\item 'P0D'\n",
       "\\item 'P0D'\n",
       "\\item 'PT42S'\n",
       "\\item 'PT1H44M18S'\n",
       "\\item 'PT41S'\n",
       "\\item 'PT4M'\n",
       "\\item 'PT4M'\n",
       "\\item 'PT59S'\n",
       "\\item 'P0D'\n",
       "\\item 'P0D'\n",
       "\\item 'P0D'\n",
       "\\item 'PT41S'\n",
       "\\item 'PT57S'\n",
       "\\item 'PT1H18S'\n",
       "\\item 'PT21S'\n",
       "\\item 'PT1M'\n",
       "\\end{enumerate*}\n"
      ],
      "text/markdown": [
       "1. 'PT3M'\n",
       "2. 'P0D'\n",
       "3. 'P0D'\n",
       "4. 'P0D'\n",
       "5. 'PT1H11M2S'\n",
       "6. 'PT1H23M46S'\n",
       "7. 'PT1H44M58S'\n",
       "8. 'PT3M'\n",
       "9. 'P0D'\n",
       "10. 'PT4M'\n",
       "11. 'P0D'\n",
       "12. 'P0D'\n",
       "13. 'P0D'\n",
       "14. 'P0D'\n",
       "15. 'P0D'\n",
       "16. 'PT30S'\n",
       "17. 'PT45S'\n",
       "18. 'PT31S'\n",
       "19. 'PT18S'\n",
       "20. 'PT21S'\n",
       "21. 'PT16M'\n",
       "22. 'PT2M'\n",
       "23. 'PT3M'\n",
       "24. 'PT35S'\n",
       "25. 'PT1M'\n",
       "26. 'PT2M'\n",
       "27. 'PT3M'\n",
       "28. 'P0D'\n",
       "29. 'P0D'\n",
       "30. 'P0D'\n",
       "31. 'P0D'\n",
       "32. 'P0D'\n",
       "33. 'PT42S'\n",
       "34. 'PT1H44M18S'\n",
       "35. 'PT41S'\n",
       "36. 'PT4M'\n",
       "37. 'PT4M'\n",
       "38. 'PT59S'\n",
       "39. 'P0D'\n",
       "40. 'P0D'\n",
       "41. 'P0D'\n",
       "42. 'PT41S'\n",
       "43. 'PT57S'\n",
       "44. 'PT1H18S'\n",
       "45. 'PT21S'\n",
       "46. 'PT1M'\n",
       "\n",
       "\n"
      ],
      "text/plain": [
       " [1] \"PT3M\"       \"P0D\"        \"P0D\"        \"P0D\"        \"PT1H11M2S\" \n",
       " [6] \"PT1H23M46S\" \"PT1H44M58S\" \"PT3M\"       \"P0D\"        \"PT4M\"      \n",
       "[11] \"P0D\"        \"P0D\"        \"P0D\"        \"P0D\"        \"P0D\"       \n",
       "[16] \"PT30S\"      \"PT45S\"      \"PT31S\"      \"PT18S\"      \"PT21S\"     \n",
       "[21] \"PT16M\"      \"PT2M\"       \"PT3M\"       \"PT35S\"      \"PT1M\"      \n",
       "[26] \"PT2M\"       \"PT3M\"       \"P0D\"        \"P0D\"        \"P0D\"       \n",
       "[31] \"P0D\"        \"P0D\"        \"PT42S\"      \"PT1H44M18S\" \"PT41S\"     \n",
       "[36] \"PT4M\"       \"PT4M\"       \"PT59S\"      \"P0D\"        \"P0D\"       \n",
       "[41] \"P0D\"        \"PT41S\"      \"PT57S\"      \"PT1H18S\"    \"PT21S\"     \n",
       "[46] \"PT1M\"      "
      ]
     },
     "metadata": {},
     "output_type": "display_data"
    }
   ],
   "source": [
    "time1 = strptime(dat$duration,'PT%MM%SS')\n",
    "index=which(is.na(time1))\n",
    "dat$duration[index]"
   ]
  },
  {
   "cell_type": "code",
   "execution_count": 7,
   "metadata": {},
   "outputs": [
    {
     "name": "stdout",
     "output_type": "stream",
     "text": [
      "integer(0)\n",
      "integer(0)\n",
      "integer(0)\n",
      "integer(0)\n",
      "integer(0)\n",
      " [1]  23 115 128 270 321 327 331 336 401 712 716 719 725 733 830 832 835\n",
      "integer(0)\n",
      "integer(0)\n",
      "integer(0)\n",
      "[1] 118 422 426\n",
      " [1] 118 212 228 299 317 422 426 512 537 580 582 586 593 594 804 831 834 835 838\n",
      "[20] 864 865 895\n",
      "  [1] 101 120 123 124 125 126 136 137 138 139 140 141 142 143 144 145 146 147\n",
      " [19] 148 149 150 158 162 212 217 228 230 231 235 240 241 252 259 260 261 262\n",
      " [37] 265 266 269 274 283 292 295 297 299 317 410 412 416 421 423 424 425 430\n",
      " [55] 432 434 435 436 438 439 440 441 442 443 444 445 447 448 449 450 460 462\n",
      " [73] 468 512 524 527 528 532 534 537 541 558 563 569 570 572 573 574 579 584\n",
      " [91] 585 587 588 591 592 595 598 599 600 736 823 831 834 837 849 854 856 858\n",
      "[109] 867 876 879 887 896\n"
     ]
    }
   ],
   "source": [
    "time2 <- strptime(dat$duration,'PT%HH%MM%SS')\n",
    "time3 <- strptime(dat$duration,'PT%MM')\n",
    "time4 <- strptime(dat$duration,'PT%SS')\n",
    "time5 <- strptime(dat$duration,'PT%HH%SS')\n",
    "\n",
    "time=time1\n",
    "time[index]=time2[index]\n",
    "index=which(is.na(time))\n",
    "time[index]=time3[index]\n",
    "index=which(is.na(time))\n",
    "time[index]=time4[index]\n",
    "index=which(is.na(time))\n",
    "time[index]=time5[index]\n",
    "dat$duration=time\n",
    "\n",
    "dat$duration=difftime(dat$duration,Sys.Date(),units='secs')-14400\n",
    "\n",
    "for (i in 1:ncol(dat)) {\n",
    "  print(which(is.na(dat[,i])))\n",
    "}"
   ]
  },
  {
   "cell_type": "code",
   "execution_count": 8,
   "metadata": {},
   "outputs": [],
   "source": [
    "dat=na.omit(dat)"
   ]
  },
  {
   "cell_type": "markdown",
   "metadata": {},
   "source": [
    "# Models"
   ]
  },
  {
   "cell_type": "code",
   "execution_count": 9,
   "metadata": {},
   "outputs": [
    {
     "data": {
      "text/html": [
       "<table class=\"dataframe\">\n",
       "<caption>A data.frame: 6 × 12</caption>\n",
       "<thead>\n",
       "\t<tr><th></th><th scope=col>videoId</th><th scope=col>publishedAt</th><th scope=col>category</th><th scope=col>timePeriod</th><th scope=col>title</th><th scope=col>duration</th><th scope=col>definition</th><th scope=col>caption</th><th scope=col>madeForKids</th><th scope=col>views</th><th scope=col>likes</th><th scope=col>comments</th></tr>\n",
       "\t<tr><th></th><th scope=col>&lt;chr&gt;</th><th scope=col>&lt;chr&gt;</th><th scope=col>&lt;fct&gt;</th><th scope=col>&lt;fct&gt;</th><th scope=col>&lt;chr&gt;</th><th scope=col>&lt;drtn&gt;</th><th scope=col>&lt;fct&gt;</th><th scope=col>&lt;fct&gt;</th><th scope=col>&lt;fct&gt;</th><th scope=col>&lt;dbl&gt;</th><th scope=col>&lt;dbl&gt;</th><th scope=col>&lt;dbl&gt;</th></tr>\n",
       "</thead>\n",
       "<tbody>\n",
       "\t<tr><th scope=row>1</th><td>q07RanslaGM</td><td>2019-07-12T04:00:04Z</td><td>music</td><td>before</td><td>Ed Sheeran - South of the Border (feat. Camila Cabello &amp; Cardi B) [Official Lyric Video]</td><td>204 secs</td><td>hd</td><td>false</td><td>False</td><td> 67572870</td><td> 903802</td><td>23708</td></tr>\n",
       "\t<tr><th scope=row>2</th><td>74yb9E3WY1I</td><td>2019-06-28T04:00:00Z</td><td>music</td><td>before</td><td>Ed Sheeran - Beautiful People (feat. Khalid) [Official Lyric Video]                     </td><td>198 secs</td><td>hd</td><td>false</td><td>False</td><td> 85421793</td><td> 756722</td><td>19163</td></tr>\n",
       "\t<tr><th scope=row>3</th><td>_1MnmVjZ__Y</td><td>2019-03-19T17:00:09Z</td><td>music</td><td>before</td><td>Lukas Graham - Love Someone [Live at Royal Arena]                                       </td><td>282 secs</td><td>hd</td><td>false</td><td>False</td><td> 10247816</td><td> 102336</td><td> 2089</td></tr>\n",
       "\t<tr><th scope=row>4</th><td>mj0XInqZMHY</td><td>2019-06-28T07:00:05Z</td><td>music</td><td>before</td><td>Ed Sheeran - Beautiful People (feat. Khalid) [Official Music Video]                     </td><td>228 secs</td><td>hd</td><td>false</td><td>False</td><td>324855784</td><td>2642952</td><td>54724</td></tr>\n",
       "\t<tr><th scope=row>5</th><td>uKqRAC-JNOM</td><td>2019-02-15T05:00:05Z</td><td>music</td><td>before</td><td>Ariana Grande - bloodline (Audio)                                                       </td><td>218 secs</td><td>hd</td><td>false</td><td>False</td><td> 47656034</td><td> 490115</td><td>10814</td></tr>\n",
       "\t<tr><th scope=row>6</th><td>ryJgDL9jzKk</td><td>2019-12-22T10:00:43Z</td><td>music</td><td>before</td><td>Ed Sheeran - Put It All On Me (feat. Ella Mai) [Official Music Video]                   </td><td>218 secs</td><td>hd</td><td>false</td><td>False</td><td> 60842509</td><td> 843427</td><td>21250</td></tr>\n",
       "</tbody>\n",
       "</table>\n"
      ],
      "text/latex": [
       "A data.frame: 6 × 12\n",
       "\\begin{tabular}{r|llllllllllll}\n",
       "  & videoId & publishedAt & category & timePeriod & title & duration & definition & caption & madeForKids & views & likes & comments\\\\\n",
       "  & <chr> & <chr> & <fct> & <fct> & <chr> & <drtn> & <fct> & <fct> & <fct> & <dbl> & <dbl> & <dbl>\\\\\n",
       "\\hline\n",
       "\t1 & q07RanslaGM & 2019-07-12T04:00:04Z & music & before & Ed Sheeran - South of the Border (feat. Camila Cabello \\& Cardi B) {[}Official Lyric Video{]} & 204 secs & hd & false & False &  67572870 &  903802 & 23708\\\\\n",
       "\t2 & 74yb9E3WY1I & 2019-06-28T04:00:00Z & music & before & Ed Sheeran - Beautiful People (feat. Khalid) {[}Official Lyric Video{]}                      & 198 secs & hd & false & False &  85421793 &  756722 & 19163\\\\\n",
       "\t3 & \\_1MnmVjZ\\_\\_Y & 2019-03-19T17:00:09Z & music & before & Lukas Graham - Love Someone {[}Live at Royal Arena{]}                                        & 282 secs & hd & false & False &  10247816 &  102336 &  2089\\\\\n",
       "\t4 & mj0XInqZMHY & 2019-06-28T07:00:05Z & music & before & Ed Sheeran - Beautiful People (feat. Khalid) {[}Official Music Video{]}                      & 228 secs & hd & false & False & 324855784 & 2642952 & 54724\\\\\n",
       "\t5 & uKqRAC-JNOM & 2019-02-15T05:00:05Z & music & before & Ariana Grande - bloodline (Audio)                                                        & 218 secs & hd & false & False &  47656034 &  490115 & 10814\\\\\n",
       "\t6 & ryJgDL9jzKk & 2019-12-22T10:00:43Z & music & before & Ed Sheeran - Put It All On Me (feat. Ella Mai) {[}Official Music Video{]}                    & 218 secs & hd & false & False &  60842509 &  843427 & 21250\\\\\n",
       "\\end{tabular}\n"
      ],
      "text/markdown": [
       "\n",
       "A data.frame: 6 × 12\n",
       "\n",
       "| <!--/--> | videoId &lt;chr&gt; | publishedAt &lt;chr&gt; | category &lt;fct&gt; | timePeriod &lt;fct&gt; | title &lt;chr&gt; | duration &lt;drtn&gt; | definition &lt;fct&gt; | caption &lt;fct&gt; | madeForKids &lt;fct&gt; | views &lt;dbl&gt; | likes &lt;dbl&gt; | comments &lt;dbl&gt; |\n",
       "|---|---|---|---|---|---|---|---|---|---|---|---|---|\n",
       "| 1 | q07RanslaGM | 2019-07-12T04:00:04Z | music | before | Ed Sheeran - South of the Border (feat. Camila Cabello &amp; Cardi B) [Official Lyric Video] | 204 secs | hd | false | False |  67572870 |  903802 | 23708 |\n",
       "| 2 | 74yb9E3WY1I | 2019-06-28T04:00:00Z | music | before | Ed Sheeran - Beautiful People (feat. Khalid) [Official Lyric Video]                      | 198 secs | hd | false | False |  85421793 |  756722 | 19163 |\n",
       "| 3 | _1MnmVjZ__Y | 2019-03-19T17:00:09Z | music | before | Lukas Graham - Love Someone [Live at Royal Arena]                                        | 282 secs | hd | false | False |  10247816 |  102336 |  2089 |\n",
       "| 4 | mj0XInqZMHY | 2019-06-28T07:00:05Z | music | before | Ed Sheeran - Beautiful People (feat. Khalid) [Official Music Video]                      | 228 secs | hd | false | False | 324855784 | 2642952 | 54724 |\n",
       "| 5 | uKqRAC-JNOM | 2019-02-15T05:00:05Z | music | before | Ariana Grande - bloodline (Audio)                                                        | 218 secs | hd | false | False |  47656034 |  490115 | 10814 |\n",
       "| 6 | ryJgDL9jzKk | 2019-12-22T10:00:43Z | music | before | Ed Sheeran - Put It All On Me (feat. Ella Mai) [Official Music Video]                    | 218 secs | hd | false | False |  60842509 |  843427 | 21250 |\n",
       "\n"
      ],
      "text/plain": [
       "  videoId     publishedAt          category timePeriod\n",
       "1 q07RanslaGM 2019-07-12T04:00:04Z music    before    \n",
       "2 74yb9E3WY1I 2019-06-28T04:00:00Z music    before    \n",
       "3 _1MnmVjZ__Y 2019-03-19T17:00:09Z music    before    \n",
       "4 mj0XInqZMHY 2019-06-28T07:00:05Z music    before    \n",
       "5 uKqRAC-JNOM 2019-02-15T05:00:05Z music    before    \n",
       "6 ryJgDL9jzKk 2019-12-22T10:00:43Z music    before    \n",
       "  title                                                                                   \n",
       "1 Ed Sheeran - South of the Border (feat. Camila Cabello & Cardi B) [Official Lyric Video]\n",
       "2 Ed Sheeran - Beautiful People (feat. Khalid) [Official Lyric Video]                     \n",
       "3 Lukas Graham - Love Someone [Live at Royal Arena]                                       \n",
       "4 Ed Sheeran - Beautiful People (feat. Khalid) [Official Music Video]                     \n",
       "5 Ariana Grande - bloodline (Audio)                                                       \n",
       "6 Ed Sheeran - Put It All On Me (feat. Ella Mai) [Official Music Video]                   \n",
       "  duration definition caption madeForKids views     likes   comments\n",
       "1 204 secs hd         false   False        67572870  903802 23708   \n",
       "2 198 secs hd         false   False        85421793  756722 19163   \n",
       "3 282 secs hd         false   False        10247816  102336  2089   \n",
       "4 228 secs hd         false   False       324855784 2642952 54724   \n",
       "5 218 secs hd         false   False        47656034  490115 10814   \n",
       "6 218 secs hd         false   False        60842509  843427 21250   "
      ]
     },
     "metadata": {},
     "output_type": "display_data"
    }
   ],
   "source": [
    "head(dat)"
   ]
  },
  {
   "cell_type": "markdown",
   "metadata": {},
   "source": [
    "# Three different levels"
   ]
  },
  {
   "cell_type": "code",
   "execution_count": 10,
   "metadata": {},
   "outputs": [],
   "source": [
    "dat$viewsQuartile3 <- ntile(dat$views, 3)\n",
    "dat$likesQuartile3 <- ntile(dat$likes, 3)\n",
    "dat$commentsQuartile3 <- ntile(dat$comments, 3)"
   ]
  },
  {
   "cell_type": "code",
   "execution_count": 69,
   "metadata": {},
   "outputs": [],
   "source": [
    "dat=na.omit(dat)"
   ]
  },
  {
   "cell_type": "markdown",
   "metadata": {},
   "source": [
    "# Y -- views"
   ]
  },
  {
   "cell_type": "markdown",
   "metadata": {},
   "source": [
    "Split dataset into train and test set"
   ]
  },
  {
   "cell_type": "code",
   "execution_count": 70,
   "metadata": {},
   "outputs": [],
   "source": [
    "set.seed(101)\n",
    "data <- dat[, c(3,4,6:15)] %>% mutate(id=row_number())\n",
    "#randomly sample 80% of data in each species group as the training set\n",
    "train <- data %>% group_by(viewsQuartile3) %>% sample_frac(0.8) %>% ungroup() \n",
    "test <- anti_join(data, train, by = 'id')\n",
    "# remove the column id\n",
    "train <- dplyr::select(train, -id)\n",
    "test <- dplyr::select(test, -id)"
   ]
  },
  {
   "cell_type": "markdown",
   "metadata": {},
   "source": [
    "1. LDA"
   ]
  },
  {
   "cell_type": "code",
   "execution_count": 71,
   "metadata": {},
   "outputs": [
    {
     "data": {
      "text/plain": [
       "         actual\n",
       "predicted  1  2  3\n",
       "        1 38 24  4\n",
       "        2 12 22 11\n",
       "        3  0  4 35"
      ]
     },
     "metadata": {},
     "output_type": "display_data"
    },
    {
     "name": "stdout",
     "output_type": "stream",
     "text": [
      "Test prediction error: 0.3666667"
     ]
    }
   ],
   "source": [
    "# Fit the model\n",
    "LdaModelForViews = lda(viewsQuartile3 ~ category + timePeriod + definition + caption + madeForKids + duration, data = train)\n",
    "# Make predictions for testset\n",
    "LdaPredictionsTestViews <- LdaModelForViews %>% predict(test)\n",
    "table(predicted=LdaPredictionsTestViews$class, actual=test$viewsQuartile3)\n",
    "# Model accuracy for test set\n",
    "cat(\"Test prediction error:\", mean(LdaPredictionsTestViews$class!=test$viewsQuartile3))"
   ]
  },
  {
   "cell_type": "markdown",
   "metadata": {},
   "source": [
    "2. QDA"
   ]
  },
  {
   "cell_type": "code",
   "execution_count": 73,
   "metadata": {},
   "outputs": [
    {
     "ename": "ERROR",
     "evalue": "Error in qda.default(x, grouping, ...): rank deficiency in group 1\n",
     "output_type": "error",
     "traceback": [
      "Error in qda.default(x, grouping, ...): rank deficiency in group 1\nTraceback:\n",
      "1. qda(viewsQuartile3 ~ category + timePeriod + definition + caption + \n .     madeForKids + duration, data = train)",
      "2. qda.formula(viewsQuartile3 ~ category + timePeriod + definition + \n .     caption + madeForKids + duration, data = train)",
      "3. qda.default(x, grouping, ...)",
      "4. stop(gettextf(\"rank deficiency in group %s\", lev[i]), domain = NA)"
     ]
    }
   ],
   "source": [
    "QdaModelForViews = qda(viewsQuartile3 ~ category + timePeriod + definition + caption + madeForKids + duration, data = train)\n",
    "QdaPredictionsTestViews <- QdaModelForViews %>% predict(test)\n",
    "table(predicted=QdaPredictionsTestViews$class, actual=test$viewsQuartile3)\n",
    "cat(\"Test prediction error:\", mean(QdaPredictionsTestViews$class!=test$viewsQuartile3))"
   ]
  },
  {
   "cell_type": "markdown",
   "metadata": {},
   "source": [
    "3. Multinomial"
   ]
  },
  {
   "cell_type": "code",
   "execution_count": 20,
   "metadata": {},
   "outputs": [
    {
     "name": "stdout",
     "output_type": "stream",
     "text": [
      "# weights:  39 (24 variable)\n",
      "initial  value 663.561822 \n",
      "iter  10 value 478.615946\n",
      "iter  20 value 430.773420\n",
      "iter  30 value 429.026211\n",
      "iter  40 value 428.954776\n",
      "final  value 428.954588 \n",
      "converged\n"
     ]
    },
    {
     "data": {
      "text/plain": [
       "         actual\n",
       "predicted  1  2  3\n",
       "        1 41 25  4\n",
       "        2  8 20 11\n",
       "        3  1  5 35"
      ]
     },
     "metadata": {},
     "output_type": "display_data"
    },
    {
     "name": "stdout",
     "output_type": "stream",
     "text": [
      "Test prediction error: 0.36"
     ]
    }
   ],
   "source": [
    "LRModelForViews <- multinom(viewsQuartile3 ~ category + timePeriod + definition + caption + madeForKids + duration, data = train, probabilities = TRUE, model = TRUE)\n",
    "LRPredictionsTestViews  <-  predict(LRModelForViews, test)\n",
    "table(predicted=LRPredictionsTestViews, actual=test$viewsQuartile3)\n",
    "cat(\"Test prediction error:\", mean(LRPredictionsTestViews!=test$viewsQuartile3))"
   ]
  },
  {
   "cell_type": "markdown",
   "metadata": {},
   "source": [
    "4. KNN"
   ]
  },
  {
   "cell_type": "code",
   "execution_count": 43,
   "metadata": {},
   "outputs": [],
   "source": [
    "train_ = train\n",
    "train_$category=as.numeric(train_$category)\n",
    "train_$timePeriod=as.numeric(train_$timePeriod)\n",
    "train_$duration=as.numeric(train_$duration)\n",
    "train_$definition=as.numeric(train_$definition)\n",
    "train_$caption=as.numeric(train_$caption)\n",
    "train_$madeForKids=as.numeric(train_$madeForKids)\n",
    "\n",
    "test_ = test\n",
    "test_$category=as.numeric(test_$category)\n",
    "test_$timePeriod=as.numeric(test_$timePeriod)\n",
    "test_$duration=as.numeric(test_$duration)\n",
    "test_$definition=as.numeric(test_$definition)\n",
    "test_$caption=as.numeric(test_$caption)\n",
    "test_$madeForKids=as.numeric(test_$madeForKids)"
   ]
  },
  {
   "cell_type": "code",
   "execution_count": 58,
   "metadata": {},
   "outputs": [],
   "source": [
    "trainViews_y = train_ %>% .$viewsQuartile3 \n",
    "trainViews_x <- train_ %>% dplyr::select('category', 'timePeriod', 'duration', 'definition', 'caption', 'madeForKids')\n",
    "\n",
    "testViews_y = test_ %>% .$viewsQuartile3 \n",
    "testViews_x = test_ %>% dplyr::select('category', 'timePeriod', \"duration\", \"definition\", \"caption\", \"madeForKids\")\n"
   ]
  },
  {
   "cell_type": "code",
   "execution_count": 59,
   "metadata": {},
   "outputs": [],
   "source": [
    "mean_train = colMeans(trainViews_x)\n",
    "std_train = sqrt(diag(var(trainViews_x)))\n",
    "# training data\n",
    "trainViews_x = scale(trainViews_x, center = mean_train, scale = std_train)\n",
    "# test data\n",
    "testViews_x = scale(testViews_x, center = mean_train, scale = std_train)"
   ]
  },
  {
   "cell_type": "code",
   "execution_count": 60,
   "metadata": {},
   "outputs": [],
   "source": [
    "k_range = c(1, 2, 4, 5, 10, 20, 25, 50, 100, 150, 200, 300, 400)\n",
    "train_error = c()\n",
    "test_error = c()\n",
    "for(i in 1:length(k_range)){\n",
    "  pred_train <- knn(trainViews_x, \n",
    "                      trainViews_x, \n",
    "                      trainViews_y,\n",
    "                      k = k_range[i])\n",
    "  train_error[i] = mean(pred_train != trainViews_y)\n",
    "  pred_test = knn(trainViews_x, \n",
    "                      testViews_x, \n",
    "                      trainViews_y,\n",
    "                      k = k_range[i])\n",
    "  test_error[i] = mean(pred_test != testViews_y)\n",
    "}"
   ]
  },
  {
   "cell_type": "code",
   "execution_count": 61,
   "metadata": {},
   "outputs": [
    {
     "data": {
      "image/png": "[encoded data removed]",
      "text/plain": [
       "plot without title"
      ]
     },
     "metadata": {
      "image/png": {
       "height": 360,
       "width": 480
      }
     },
     "output_type": "display_data"
    }
   ],
   "source": [
    "errors = data.frame(train_error, test_error, k_range)\n",
    "ggplot(errors, aes(x = 1/k_range)) + \n",
    "  geom_line(aes(y = train_error, col = \"train error\"), size=1) + geom_point(aes(y = train_error, col = \"train error\")) +\n",
    "  geom_line(aes(y = test_error, col = \"test error\")) + geom_point(aes(y = test_error, col = \"test error\")) +\n",
    "  ylab(\"Error Rate\") + xlab(\"1/K\") + ggtitle(\"Training and test error rate for KNN\") + theme_minimal() +\n",
    "  scale_color_manual(values = c(\"train error\" = \"red\", \"test error\" = \"blue\"))"
   ]
  },
  {
   "cell_type": "markdown",
   "metadata": {},
   "source": [
    "5. Classification Tree"
   ]
  },
  {
   "cell_type": "code",
   "execution_count": 62,
   "metadata": {},
   "outputs": [
    {
     "name": "stdout",
     "output_type": "stream",
     "text": [
      "\n",
      "Classification tree:\n",
      "rpart(formula = viewsQuartile3 ~ category + timePeriod + definition + \n",
      "    caption + madeForKids + duration, data = train, method = \"class\", \n",
      "    parms = list(split = \"gini\"))\n",
      "\n",
      "Variables actually used in tree construction:\n",
      "[1] caption    category   duration   timePeriod\n",
      "\n",
      "Root node error: 402/604 = 0.66556\n",
      "\n",
      "n= 604 \n",
      "\n",
      "        CP nsplit rel error  xerror     xstd\n",
      "1 0.388060      0   1.00000 1.10448 0.026978\n",
      "2 0.036070      1   0.61194 0.61194 0.030038\n",
      "3 0.020522      3   0.53980 0.53980 0.029332\n",
      "4 0.010000      7   0.45771 0.47512 0.028428\n"
     ]
    }
   ],
   "source": [
    "tree.gini = rpart(viewsQuartile3 ~ category + timePeriod + definition + caption + madeForKids + duration, train, parms = list(split = \"gini\"), method = \"class\")\n",
    "printcp(tree.gini)"
   ]
  },
  {
   "cell_type": "code",
   "execution_count": 63,
   "metadata": {},
   "outputs": [
    {
     "data": {
      "image/png": "[encoded data removed]",
      "text/plain": [
       "plot without title"
      ]
     },
     "metadata": {
      "image/png": {
       "height": 360,
       "width": 480
      }
     },
     "output_type": "display_data"
    }
   ],
   "source": [
    "options(repr.plot.width=8, repr.plot.height=6)\n",
    "plotcp(tree.gini)"
   ]
  },
  {
   "cell_type": "markdown",
   "metadata": {},
   "source": [
    "6. Random Forest"
   ]
  },
  {
   "cell_type": "code",
   "execution_count": null,
   "metadata": {},
   "outputs": [],
   "source": []
  }
 ],
 "metadata": {
  "kernelspec": {
   "display_name": "R",
   "language": "R",
   "name": "ir"
  },
  "language_info": {
   "codemirror_mode": "r",
   "file_extension": ".r",
   "mimetype": "text/x-r-source",
   "name": "R",
   "pygments_lexer": "r",
   "version": "4.1.1"
  }
 },
 "nbformat": 4,
 "nbformat_minor": 2
}
