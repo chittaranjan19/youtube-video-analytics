{
 "cells": [
  {
   "cell_type": "code",
   "execution_count": 213,
   "id": "51acd0f6",
   "metadata": {},
   "outputs": [],
   "source": [
    "import pandas as pd\n",
    "import isodate\n",
    "import datetime\n",
    "import matplotlib.pyplot as plt\n",
    "import numpy as np\n",
    "from sklearn.metrics import mean_squared_error\n",
    "from sklearn.model_selection import GroupShuffleSplit\n",
    "import tensorflow as tf\n",
    "from tensorflow.keras import layers\n",
    "from sklearn.model_selection import KFold\n",
    "from sklearn.model_selection import train_test_split\n",
    "from sklearn.metrics import confusion_matrix\n",
    "from sklearn import preprocessing"
   ]
  },
  {
   "cell_type": "code",
   "execution_count": 220,
   "id": "1de064e2",
   "metadata": {},
   "outputs": [],
   "source": [
    "mms = preprocessing.MinMaxScaler()"
   ]
  },
  {
   "cell_type": "code",
   "execution_count": 230,
   "id": "24cb8ef8",
   "metadata": {},
   "outputs": [],
   "source": [
    "df = pd.read_csv(\"data_transformed.csv\").drop(\"Unnamed: 0\", axis=1)\n",
    "predictors = [\n",
    "    \"category\", \"timePeriod\", \"duration\", \"definition\", \"caption\",\n",
    "    \"publishedAtMonth\", \"publishedAtDay\", \"publishedAtYear\", \n",
    "    \"publishedAtHour\", \"publishedAtMinute\", \"publishedAtSec\", \"age\"\n",
    "]\n",
    "df[\"caption\"] = df[\"caption\"].astype(np.int32)\n",
    "X, y = pd.get_dummies(df[predictors]), df[\"log_views\"]\n",
    "y = y.astype(np.float64)\n",
    "X[\"duration\"] = X[\"duration\"].astype(np.int64)\n",
    "X[\"age\"] = X[\"age\"].astype(np.int64)\n",
    "X = mms.fit_transform(X)"
   ]
  },
  {
   "cell_type": "markdown",
   "id": "af415e18",
   "metadata": {},
   "source": [
    "## Regression"
   ]
  },
  {
   "cell_type": "code",
   "execution_count": 231,
   "id": "8d0ce9ad",
   "metadata": {},
   "outputs": [],
   "source": [
    "train_X, test_X, train_y , test_y = train_test_split(X, y, train_size=0.8)"
   ]
  },
  {
   "cell_type": "code",
   "execution_count": 232,
   "id": "9e4f7a28",
   "metadata": {},
   "outputs": [
    {
     "name": "stdout",
     "output_type": "stream",
     "text": [
      "Epoch 1/30\n",
      "20/20 [==============================] - 0s 1ms/step - loss: 181.0128\n",
      "Epoch 2/30\n",
      "20/20 [==============================] - 0s 944us/step - loss: 42.2927\n",
      "Epoch 3/30\n",
      "20/20 [==============================] - 0s 2ms/step - loss: 6.2256\n",
      "Epoch 4/30\n",
      "20/20 [==============================] - 0s 1ms/step - loss: 4.1244\n",
      "Epoch 5/30\n",
      "20/20 [==============================] - 0s 1ms/step - loss: 3.0370\n",
      "Epoch 6/30\n",
      "20/20 [==============================] - 0s 942us/step - loss: 2.7225\n",
      "Epoch 7/30\n",
      "20/20 [==============================] - 0s 886us/step - loss: 2.3899\n",
      "Epoch 8/30\n",
      "20/20 [==============================] - 0s 842us/step - loss: 2.4171\n",
      "Epoch 9/30\n",
      "20/20 [==============================] - 0s 906us/step - loss: 2.3005\n",
      "Epoch 10/30\n",
      "20/20 [==============================] - 0s 918us/step - loss: 2.3017\n",
      "Epoch 11/30\n",
      "20/20 [==============================] - 0s 882us/step - loss: 2.0481\n",
      "Epoch 12/30\n",
      "20/20 [==============================] - 0s 876us/step - loss: 2.0006\n",
      "Epoch 13/30\n",
      "20/20 [==============================] - 0s 867us/step - loss: 1.9320\n",
      "Epoch 14/30\n",
      "20/20 [==============================] - 0s 912us/step - loss: 1.7176\n",
      "Epoch 15/30\n",
      "20/20 [==============================] - 0s 946us/step - loss: 1.8431\n",
      "Epoch 16/30\n",
      "20/20 [==============================] - 0s 914us/step - loss: 1.7885\n",
      "Epoch 17/30\n",
      "20/20 [==============================] - 0s 886us/step - loss: 1.6235\n",
      "Epoch 18/30\n",
      "20/20 [==============================] - 0s 876us/step - loss: 1.6981\n",
      "Epoch 19/30\n",
      "20/20 [==============================] - 0s 895us/step - loss: 1.9168\n",
      "Epoch 20/30\n",
      "20/20 [==============================] - 0s 900us/step - loss: 1.7130\n",
      "Epoch 21/30\n",
      "20/20 [==============================] - 0s 921us/step - loss: 1.7827\n",
      "Epoch 22/30\n",
      "20/20 [==============================] - 0s 851us/step - loss: 1.5170\n",
      "Epoch 23/30\n",
      "20/20 [==============================] - 0s 883us/step - loss: 1.3192\n",
      "Epoch 24/30\n",
      "20/20 [==============================] - 0s 870us/step - loss: 1.4590\n",
      "Epoch 25/30\n",
      "20/20 [==============================] - 0s 858us/step - loss: 1.4792\n",
      "Epoch 26/30\n",
      "20/20 [==============================] - 0s 911us/step - loss: 1.5973\n",
      "Epoch 27/30\n",
      "20/20 [==============================] - 0s 901us/step - loss: 1.4983\n",
      "Epoch 28/30\n",
      "20/20 [==============================] - 0s 905us/step - loss: 1.4338\n",
      "Epoch 29/30\n",
      "20/20 [==============================] - 0s 877us/step - loss: 1.5206\n",
      "Epoch 30/30\n",
      "20/20 [==============================] - 0s 861us/step - loss: 1.5803\n"
     ]
    },
    {
     "data": {
      "text/plain": [
       "<tensorflow.python.keras.callbacks.History at 0x7f781b35eaf0>"
      ]
     },
     "execution_count": 232,
     "metadata": {},
     "output_type": "execute_result"
    }
   ],
   "source": [
    "model1 = tf.keras.Sequential(\n",
    "    [   \n",
    "        layers.Dense(512, activation=\"relu\"),\n",
    "        layers.Dense(64, activation=\"relu\"),\n",
    "        layers.Dense(32, activation=\"relu\"),\n",
    "        layers.Dense(16, activation=\"relu\"),\n",
    "        layers.Dense(1),\n",
    "    ]\n",
    ")\n",
    "callback = tf.keras.callbacks.EarlyStopping(monitor='loss', patience=5, restore_best_weights=True)\n",
    "model1.compile(loss='mean_squared_error', optimizer='adam')\n",
    "model1.fit(train_X, train_y, epochs=30, callbacks=[callback])"
   ]
  },
  {
   "cell_type": "code",
   "execution_count": 233,
   "id": "60b88d77",
   "metadata": {},
   "outputs": [
    {
     "name": "stdout",
     "output_type": "stream",
     "text": [
      "5/5 [==============================] - 0s 697us/step - loss: 2.3074\n"
     ]
    },
    {
     "data": {
      "text/plain": [
       "2.3074052333831787"
      ]
     },
     "execution_count": 233,
     "metadata": {},
     "output_type": "execute_result"
    }
   ],
   "source": [
    "model1.evaluate(test_X, test_y)"
   ]
  },
  {
   "cell_type": "markdown",
   "id": "e565cf4a",
   "metadata": {},
   "source": [
    "## Classification"
   ]
  },
  {
   "cell_type": "code",
   "execution_count": 228,
   "id": "652a2e65",
   "metadata": {},
   "outputs": [],
   "source": [
    "def set_class(v):\n",
    "    if v < 13: return \"low\"\n",
    "    if v < 15: return \"medium\"\n",
    "    return \"high\""
   ]
  },
  {
   "cell_type": "code",
   "execution_count": 281,
   "id": "1baa6f4f",
   "metadata": {},
   "outputs": [],
   "source": [
    "df = pd.read_csv(\"data_transformed.csv\").drop(\"Unnamed: 0\", axis=1)\n",
    "predictors = [\n",
    "    \"category\", \"timePeriod\", \"duration\", \"definition\", \"caption\",\n",
    "    \"publishedAtMonth\", \"publishedAtDay\", \"publishedAtYear\", \n",
    "    \"publishedAtHour\", \"publishedAtMinute\", \"publishedAtSec\", \"age\"\n",
    "]\n",
    "df[\"caption\"] = df[\"caption\"].astype(np.int32)\n",
    "X, y = pd.get_dummies(df[predictors]), pd.get_dummies(df[\"log_views\"].map(set_class))\n",
    "X[\"duration\"] = X[\"duration\"].astype(np.int64)\n",
    "X[\"age\"] = X[\"age\"].astype(np.int64)\n",
    "X = mms.fit_transform(X)"
   ]
  },
  {
   "cell_type": "code",
   "execution_count": 282,
   "id": "ac4ad9ab",
   "metadata": {},
   "outputs": [],
   "source": [
    "train_X, test_X, train_y , test_y = train_test_split(X, y, train_size=0.8)"
   ]
  },
  {
   "cell_type": "code",
   "execution_count": 283,
   "id": "9c403f56",
   "metadata": {
    "scrolled": false
   },
   "outputs": [
    {
     "name": "stdout",
     "output_type": "stream",
     "text": [
      "Epoch 1/30\n",
      "20/20 [==============================] - 0s 1ms/step - loss: 0.9824 - categorical_accuracy: 0.5033\n",
      "Epoch 2/30\n",
      "20/20 [==============================] - 0s 1ms/step - loss: 0.7957 - categorical_accuracy: 0.6742\n",
      "Epoch 3/30\n",
      "20/20 [==============================] - 0s 1ms/step - loss: 0.7569 - categorical_accuracy: 0.6659\n",
      "Epoch 4/30\n",
      "20/20 [==============================] - 0s 1ms/step - loss: 0.7350 - categorical_accuracy: 0.6683\n",
      "Epoch 5/30\n",
      "20/20 [==============================] - 0s 1ms/step - loss: 0.7587 - categorical_accuracy: 0.6660\n",
      "Epoch 6/30\n",
      "20/20 [==============================] - 0s 1ms/step - loss: 0.7070 - categorical_accuracy: 0.6764\n",
      "Epoch 7/30\n",
      "20/20 [==============================] - 0s 1ms/step - loss: 0.6677 - categorical_accuracy: 0.7226\n",
      "Epoch 8/30\n",
      "20/20 [==============================] - 0s 988us/step - loss: 0.7156 - categorical_accuracy: 0.6966\n",
      "Epoch 9/30\n",
      "20/20 [==============================] - 0s 1ms/step - loss: 0.6639 - categorical_accuracy: 0.6894\n",
      "Epoch 10/30\n",
      "20/20 [==============================] - 0s 1ms/step - loss: 0.7687 - categorical_accuracy: 0.6495\n",
      "Epoch 11/30\n",
      "20/20 [==============================] - 0s 1ms/step - loss: 0.6600 - categorical_accuracy: 0.7018\n",
      "Epoch 12/30\n",
      "20/20 [==============================] - 0s 1ms/step - loss: 0.6439 - categorical_accuracy: 0.7007\n",
      "Epoch 13/30\n",
      "20/20 [==============================] - 0s 1ms/step - loss: 0.6466 - categorical_accuracy: 0.6889\n",
      "Epoch 14/30\n",
      "20/20 [==============================] - 0s 1ms/step - loss: 0.6139 - categorical_accuracy: 0.7473\n",
      "Epoch 15/30\n",
      "20/20 [==============================] - 0s 991us/step - loss: 0.5945 - categorical_accuracy: 0.7461\n",
      "Epoch 16/30\n",
      "20/20 [==============================] - 0s 1ms/step - loss: 0.6326 - categorical_accuracy: 0.7375\n",
      "Epoch 17/30\n",
      "20/20 [==============================] - 0s 1ms/step - loss: 0.6169 - categorical_accuracy: 0.7200\n",
      "Epoch 18/30\n",
      "20/20 [==============================] - 0s 980us/step - loss: 0.6204 - categorical_accuracy: 0.7348\n",
      "Epoch 19/30\n",
      "20/20 [==============================] - 0s 1ms/step - loss: 0.5729 - categorical_accuracy: 0.7643\n",
      "Epoch 20/30\n",
      "20/20 [==============================] - 0s 1ms/step - loss: 0.5742 - categorical_accuracy: 0.7341\n",
      "Epoch 21/30\n",
      "20/20 [==============================] - 0s 968us/step - loss: 0.5833 - categorical_accuracy: 0.7356\n",
      "Epoch 22/30\n",
      "20/20 [==============================] - 0s 1ms/step - loss: 0.6307 - categorical_accuracy: 0.7125\n",
      "Epoch 23/30\n",
      "20/20 [==============================] - 0s 1ms/step - loss: 0.5716 - categorical_accuracy: 0.7446\n",
      "Epoch 24/30\n",
      "20/20 [==============================] - 0s 1ms/step - loss: 0.6031 - categorical_accuracy: 0.7360\n",
      "Epoch 25/30\n",
      "20/20 [==============================] - 0s 962us/step - loss: 0.5771 - categorical_accuracy: 0.7523\n",
      "Epoch 26/30\n",
      "20/20 [==============================] - 0s 1ms/step - loss: 0.5848 - categorical_accuracy: 0.7400\n",
      "Epoch 27/30\n",
      "20/20 [==============================] - 0s 1ms/step - loss: 0.5610 - categorical_accuracy: 0.7583\n",
      "Epoch 28/30\n",
      "20/20 [==============================] - 0s 1ms/step - loss: 0.5410 - categorical_accuracy: 0.7830\n",
      "Epoch 29/30\n",
      "20/20 [==============================] - 0s 2ms/step - loss: 0.5697 - categorical_accuracy: 0.7590\n",
      "Epoch 30/30\n",
      "20/20 [==============================] - 0s 1ms/step - loss: 0.5209 - categorical_accuracy: 0.8002\n"
     ]
    },
    {
     "data": {
      "text/plain": [
       "<tensorflow.python.keras.callbacks.History at 0x7f781beb9100>"
      ]
     },
     "execution_count": 283,
     "metadata": {},
     "output_type": "execute_result"
    }
   ],
   "source": [
    "model2 = tf.keras.Sequential(\n",
    "    [\n",
    "        layers.Dense(256, activation=\"relu\"),\n",
    "        layers.Dense(256, activation=\"relu\"),\n",
    "        layers.Dropout(0.4),\n",
    "        layers.Dense(3, activation=\"softmax\"),\n",
    "    ]\n",
    ")\n",
    "model2.compile(loss='categorical_crossentropy', optimizer=\"RMSprop\", metrics=[tf.keras.metrics.CategoricalAccuracy()])\n",
    "model2.fit(train_X, train_y, epochs=30)"
   ]
  },
  {
   "cell_type": "code",
   "execution_count": 284,
   "id": "da7b6600",
   "metadata": {},
   "outputs": [
    {
     "name": "stdout",
     "output_type": "stream",
     "text": [
      "5/5 [==============================] - 0s 788us/step - loss: 0.6888 - categorical_accuracy: 0.6948\n"
     ]
    },
    {
     "data": {
      "text/plain": [
       "[0.6887690424919128, 0.6948052048683167]"
      ]
     },
     "execution_count": 284,
     "metadata": {},
     "output_type": "execute_result"
    }
   ],
   "source": [
    "model2.evaluate(test_X, test_y)"
   ]
  },
  {
   "cell_type": "code",
   "execution_count": 288,
   "id": "7a4d0265",
   "metadata": {},
   "outputs": [],
   "source": [
    "def plot_confusion_matrix(cm, classes,\n",
    "                          normalize=False,\n",
    "                          title='Confusion matrix',\n",
    "                          cmap=plt.cm.Blues):\n",
    "    \"\"\"\n",
    "    This function prints and plots the confusion matrix.\n",
    "    Normalization can be applied by setting `normalize=True`.\n",
    "    \"\"\"\n",
    "    plt.imshow(cm, interpolation='nearest', cmap=cmap)\n",
    "    plt.title(title)\n",
    "    plt.colorbar()\n",
    "    tick_marks = np.arange(len(classes))\n",
    "    plt.xticks(tick_marks, classes, rotation=45)\n",
    "    plt.yticks(tick_marks, classes)\n",
    "\n",
    "    fmt = '.2f' if normalize else 'd'\n",
    "    thresh = cm.max() / 2.\n",
    "    import itertools\n",
    "    for i, j in itertools.product(range(cm.shape[0]), range(cm.shape[1])):\n",
    "        plt.text(j, i, format(cm[i, j], fmt),\n",
    "                 horizontalalignment=\"center\",\n",
    "                 color=\"white\" if cm[i, j] > thresh else \"black\")\n",
    "\n",
    "    plt.ylabel('True label')\n",
    "    plt.xlabel('Predicted label')\n",
    "    plt.tight_layout()"
   ]
  },
  {
   "cell_type": "code",
   "execution_count": null,
   "id": "550bbb96",
   "metadata": {},
   "outputs": [],
   "source": [
    "test_y = test_y.idxmax(axis=1)"
   ]
  },
  {
   "cell_type": "code",
   "execution_count": 289,
   "id": "28344c7e",
   "metadata": {},
   "outputs": [],
   "source": [
    "predict = model2.predict(test_X)\n",
    "predict_class = np.argmax(predict, axis=1)\n",
    "predict_class = list(map(lambda c: [\"high\", \"low\", \"medium\"][c], predict_class))"
   ]
  },
  {
   "cell_type": "code",
   "execution_count": 290,
   "id": "31a11c7d",
   "metadata": {},
   "outputs": [
    {
     "data": {
      "image/png": "[encoded data removed]",
      "text/plain": [
       "<Figure size 432x288 with 2 Axes>"
      ]
     },
     "metadata": {
      "needs_background": "light"
     },
     "output_type": "display_data"
    }
   ],
   "source": [
    "cnf_matrix = confusion_matrix(predict_class, test_y, labels=['high', 'low', 'medium'])\n",
    "np.set_printoptions(precision=2)\n",
    "plt.figure()\n",
    "plot_confusion_matrix(cnf_matrix, classes=['high', 'low', 'medium'],\n",
    "                      title='Confusion matrix')"
   ]
  },
  {
   "cell_type": "code",
   "execution_count": null,
   "id": "43265d85",
   "metadata": {},
   "outputs": [],
   "source": []
  }
 ],
 "metadata": {
  "kernelspec": {
   "display_name": "Python 3",
   "language": "python",
   "name": "python3"
  },
  "language_info": {
   "codemirror_mode": {
    "name": "ipython",
    "version": 3
   },
   "file_extension": ".py",
   "mimetype": "text/x-python",
   "name": "python",
   "nbconvert_exporter": "python",
   "pygments_lexer": "ipython3",
   "version": "3.9.6"
  }
 },
 "nbformat": 4,
 "nbformat_minor": 5
}
